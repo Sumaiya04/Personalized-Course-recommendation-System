{
  "metadata": {
    "kernelspec": {
      "language": "python",
      "display_name": "Python 3",
      "name": "python3"
    },
    "language_info": {
      "name": "python",
      "version": "3.7.10",
      "mimetype": "text/x-python",
      "codemirror_mode": {
        "name": "ipython",
        "version": 3
      },
      "pygments_lexer": "ipython3",
      "nbconvert_exporter": "python",
      "file_extension": ".py"
    },
    "kaggle": {
      "accelerator": "none",
      "dataSources": [
        {
          "sourceId": 77759,
          "sourceType": "datasetVersion",
          "datasetId": 339
        },
        {
          "sourceId": 5368047,
          "sourceType": "datasetVersion",
          "datasetId": 3115017
        },
        {
          "sourceId": 5526603,
          "sourceType": "datasetVersion",
          "datasetId": 3186134
        }
      ],
      "dockerImageVersionId": 30096,
      "isInternetEnabled": false,
      "language": "python",
      "sourceType": "notebook",
      "isGpuEnabled": false
    },
    "colab": {
      "provenance": []
    }
  },
  "nbformat_minor": 0,
  "nbformat": 4,
  "cells": [
    {
      "source": [
        "\n",
        "# IMPORTANT: RUN THIS CELL IN ORDER TO IMPORT YOUR KAGGLE DATA SOURCES\n",
        "# TO THE CORRECT LOCATION (/kaggle/input) IN YOUR NOTEBOOK,\n",
        "# THEN FEEL FREE TO DELETE THIS CELL.\n",
        "# NOTE: THIS NOTEBOOK ENVIRONMENT DIFFERS FROM KAGGLE'S PYTHON\n",
        "# ENVIRONMENT SO THERE MAY BE MISSING LIBRARIES USED BY YOUR\n",
        "# NOTEBOOK.\n",
        "\n",
        "import os\n",
        "import sys\n",
        "from tempfile import NamedTemporaryFile\n",
        "from urllib.request import urlopen\n",
        "from urllib.parse import unquote, urlparse\n",
        "from urllib.error import HTTPError\n",
        "from zipfile import ZipFile\n",
        "import tarfile\n",
        "import shutil\n",
        "\n",
        "CHUNK_SIZE = 40960\n",
        "DATA_SOURCE_MAPPING = ''\n",
        "KAGGLE_INPUT_PATH='/kaggle/input'\n",
        "KAGGLE_WORKING_PATH='/kaggle/working'\n",
        "KAGGLE_SYMLINK='kaggle'\n",
        "\n",
        "!umount /kaggle/input/ 2> /dev/null\n",
        "shutil.rmtree('/kaggle/input', ignore_errors=True)\n",
        "os.makedirs(KAGGLE_INPUT_PATH, 0o777, exist_ok=True)\n",
        "os.makedirs(KAGGLE_WORKING_PATH, 0o777, exist_ok=True)\n",
        "\n",
        "try:\n",
        "  os.symlink(KAGGLE_INPUT_PATH, os.path.join(\"..\", 'input'), target_is_directory=True)\n",
        "except FileExistsError:\n",
        "  pass\n",
        "try:\n",
        "  os.symlink(KAGGLE_WORKING_PATH, os.path.join(\"..\", 'working'), target_is_directory=True)\n",
        "except FileExistsError:\n",
        "  pass\n",
        "\n",
        "for data_source_mapping in DATA_SOURCE_MAPPING.split(','):\n",
        "    directory, download_url_encoded = data_source_mapping.split(':')\n",
        "    download_url = unquote(download_url_encoded)\n",
        "    filename = urlparse(download_url).path\n",
        "    destination_path = os.path.join(KAGGLE_INPUT_PATH, directory)\n",
        "    try:\n",
        "        with urlopen(download_url) as fileres, NamedTemporaryFile() as tfile:\n",
        "            total_length = fileres.headers['content-length']\n",
        "            print(f'Downloading {directory}, {total_length} bytes compressed')\n",
        "            dl = 0\n",
        "            data = fileres.read(CHUNK_SIZE)\n",
        "            while len(data) > 0:\n",
        "                dl += len(data)\n",
        "                tfile.write(data)\n",
        "                done = int(50 * dl / int(total_length))\n",
        "                sys.stdout.write(f\"\\r[{'=' * done}{' ' * (50-done)}] {dl} bytes downloaded\")\n",
        "                sys.stdout.flush()\n",
        "                data = fileres.read(CHUNK_SIZE)\n",
        "            if filename.endswith('.zip'):\n",
        "              with ZipFile(tfile) as zfile:\n",
        "                zfile.extractall(destination_path)\n",
        "            else:\n",
        "              with tarfile.open(tfile.name) as tarfile:\n",
        "                tarfile.extractall(destination_path)\n",
        "            print(f'\\nDownloaded and uncompressed: {directory}')\n",
        "    except HTTPError as e:\n",
        "        print(f'Failed to load (likely expired) {download_url} to path {destination_path}')\n",
        "        continue\n",
        "    except OSError as e:\n",
        "        print(f'Failed to load {download_url} to path {destination_path}')\n",
        "        continue\n",
        "\n",
        "print('Data source import complete.')\n"
      ],
      "metadata": {
        "id": "djmp5fBOzbV-"
      },
      "cell_type": "code",
      "outputs": [],
      "execution_count": null
    },
    {
      "cell_type": "code",
      "source": [
        "# Hybrid Recommender System"
      ],
      "metadata": {
        "execution": {
          "iopub.status.busy": "2023-08-17T04:53:12.860618Z",
          "iopub.execute_input": "2023-08-17T04:53:12.861016Z",
          "iopub.status.idle": "2023-08-17T04:53:12.866254Z",
          "shell.execute_reply.started": "2023-08-17T04:53:12.860983Z",
          "shell.execute_reply": "2023-08-17T04:53:12.8647Z"
        },
        "trusted": true,
        "id": "XbC8FKupzbWC"
      },
      "execution_count": null,
      "outputs": []
    },
    {
      "cell_type": "markdown",
      "source": [
        "A recommender system, or a recommendation system, can be thought of as a subclass of information filtering system that seeks to predict the best “rating” or “preference” a user would give to an item which is typically obtained by optimizing for objectives like total clicks, total revenue, and overall sales.\n",
        "\n",
        "Broadly speaking, most recommender systems leverage two types of data:\n",
        "* Interaction Data, such as ratings, and browsing behaviors, and\n",
        "* Attribution Information, about each user and items\n",
        "\n",
        "The modeling approach relying on the former data is generally known Collaborative Filtering method."
      ],
      "metadata": {
        "id": "bUtnZwryzbWD"
      }
    },
    {
      "cell_type": "markdown",
      "source": [
        "# What Is Collaborative Filtering?\n",
        "\n",
        "Collaborative filtering is a technique that can filter out items that a user might like on the basis of reactions by similar users. It works by searching a large group of people and finding a smaller set of users with tastes similar to a particular user. It looks at the items they like and combines them to create a ranked list of suggestions. There are many ways to decide which users are similar and combine their choices to create a list of recommendations.\n",
        "\n",
        "\n",
        "**Item-Based Collaborative Filtering** is the recommendation system to use the similarity between items using the ratings by users.\n",
        "\n",
        "**User-Based Collaborative Filtering** is a technique used to predict the items that a user might like on the basis of ratings given to that item by the other users who have similar taste with that of the target user. Many websites use collaborative filtering for building their recommendation system.\n"
      ],
      "metadata": {
        "id": "OtkqyWhLzbWE"
      }
    },
    {
      "cell_type": "markdown",
      "source": [
        "# Business Problem\n",
        "\n",
        "Estimate book recomendation using the item-based and user-based recommender methods for the user whose ID is given."
      ],
      "metadata": {
        "id": "-B1otjIKzbWF"
      }
    },
    {
      "cell_type": "markdown",
      "source": [
        "# Load Dataset\n"
      ],
      "metadata": {
        "id": "yxWACYlpzbWF"
      }
    },
    {
      "cell_type": "code",
      "source": [
        "# This Python 3 environment comes with many helpful analytics libraries installed\n",
        "# It is defined by the kaggle/python Docker image: https://github.com/kaggle/docker-python\n",
        "# For example, here's several helpful packages to load\n",
        "\n",
        "import numpy as np # linear algebra\n",
        "import pandas as pd # data processing, CSV file I/O (e.g. pd.read_csv)\n",
        "\n",
        "# Input data files are available in the read-only \"../input/\" directory\n",
        "# For example, running this (by clicking run or pressing Shift+Enter) will list all files under the input directory\n",
        "\n",
        "import os\n",
        "for dirname, _, filenames in os.walk('/kaggle/input'):\n",
        "    for filename in filenames:\n",
        "        print(os.path.join(dirname, filename))\n",
        "\n",
        "# You can write up to 20GB to the current directory (/kaggle/working/) that gets preserved as output when you create a version using \"Save & Run All\"\n",
        "# You can also write temporary files to /kaggle/temp/, but they won't be saved outside of the current session"
      ],
      "metadata": {
        "_uuid": "8f2839f25d086af736a60e9eeb907d3b93b6e0e5",
        "_cell_guid": "b1076dfc-b9ad-4769-8c92-a6c4dae69d19",
        "execution": {
          "iopub.status.busy": "2023-08-17T04:53:12.869138Z",
          "iopub.execute_input": "2023-08-17T04:53:12.869516Z",
          "iopub.status.idle": "2023-08-17T04:53:12.891215Z",
          "shell.execute_reply.started": "2023-08-17T04:53:12.869486Z",
          "shell.execute_reply": "2023-08-17T04:53:12.890142Z"
        },
        "trusted": true,
        "id": "slWyKl8wzbWG",
        "outputId": "40c569b6-bf20-45c2-93a2-928d373b8021"
      },
      "execution_count": null,
      "outputs": [
        {
          "name": "stdout",
          "text": "/kaggle/input/coursev2/coursev2.csv\n/kaggle/input/movielens-20m-dataset/rating.csv\n/kaggle/input/movielens-20m-dataset/link.csv\n/kaggle/input/movielens-20m-dataset/genome_tags.csv\n/kaggle/input/movielens-20m-dataset/genome_scores.csv\n/kaggle/input/movielens-20m-dataset/tag.csv\n/kaggle/input/movielens-20m-dataset/movie.csv\n/kaggle/input/user-course/user_coursev3.csv\n",
          "output_type": "stream"
        }
      ]
    },
    {
      "cell_type": "code",
      "source": [
        "import pandas as pd\n",
        "pd.set_option('display.max_columns', 20)\n",
        "course = pd.read_csv(\"/kaggle/input/coursev2/coursev2.csv\")\n",
        "\n",
        "course.sort_values(by='id').head(05)"
      ],
      "metadata": {
        "execution": {
          "iopub.status.busy": "2023-08-17T04:53:12.8926Z",
          "iopub.execute_input": "2023-08-17T04:53:12.893064Z",
          "iopub.status.idle": "2023-08-17T04:53:13.985227Z",
          "shell.execute_reply.started": "2023-08-17T04:53:12.893025Z",
          "shell.execute_reply": "2023-08-17T04:53:13.984472Z"
        },
        "trusted": true,
        "id": "tfmFnfMAzbWH",
        "outputId": "3ad3cf7b-60b0-480c-bfc1-38c3377e5880"
      },
      "execution_count": null,
      "outputs": [
        {
          "execution_count": 38,
          "output_type": "execute_result",
          "data": {
            "text/plain": "        id                                              title    user_id  \\\n150849   1  মাল্টিমিডিয়া কনটেন্ট তৈরি -MMCD (সকলের জন্য উন...    91110.0   \n139086   1  মাল্টিমিডিয়া কনটেন্ট তৈরি -MMCD (সকলের জন্য উন...   113153.0   \n141585   1  মাল্টিমিডিয়া কনটেন্ট তৈরি -MMCD (সকলের জন্য উন...    84787.0   \n88146    1  মাল্টিমিডিয়া কনটেন্ট তৈরি -MMCD (সকলের জন্য উন...    92938.0   \n379006   1  মাল্টিমিডিয়া কনটেন্ট তৈরি -MMCD (সকলের জন্য উন...    99474.0   \n318285   1  মাল্টিমিডিয়া কনটেন্ট তৈরি -MMCD (সকলের জন্য উন...  3100552.0   \n1581     1  মাল্টিমিডিয়া কনটেন্ট তৈরি -MMCD (সকলের জন্য উন...   106773.0   \n89822    1  মাল্টিমিডিয়া কনটেন্ট তৈরি -MMCD (সকলের জন্য উন...     1116.0   \n376897   1  মাল্টিমিডিয়া কনটেন্ট তৈরি -MMCD (সকলের জন্য উন...    50597.0   \n207869   1  মাল্টিমিডিয়া কনটেন্ট তৈরি -MMCD (সকলের জন্য উন...    99011.0   \n303878   1  মাল্টিমিডিয়া কনটেন্ট তৈরি -MMCD (সকলের জন্য উন...   101844.0   \n216578   1  মাল্টিমিডিয়া কনটেন্ট তৈরি -MMCD (সকলের জন্য উন...   100246.0   \n67046    1  মাল্টিমিডিয়া কনটেন্ট তৈরি -MMCD (সকলের জন্য উন...    91895.0   \n341025   1  মাল্টিমিডিয়া কনটেন্ট তৈরি -MMCD (সকলের জন্য উন...  3104852.0   \n91975    1  মাল্টিমিডিয়া কনটেন্ট তৈরি -MMCD (সকলের জন্য উন...    23593.0   \n339063   1  মাল্টিমিডিয়া কনটেন্ট তৈরি -MMCD (সকলের জন্য উন...    91941.0   \n413790   1  মাল্টিমিডিয়া কনটেন্ট তৈরি -MMCD (সকলের জন্য উন...  3079428.0   \n197165   1  মাল্টিমিডিয়া কনটেন্ট তৈরি -MMCD (সকলের জন্য উন...    91158.0   \n301030   1  মাল্টিমিডিয়া কনটেন্ট তৈরি -MMCD (সকলের জন্য উন...   119630.0   \n408419   1  মাল্টিমিডিয়া কনটেন্ট তৈরি -MMCD (সকলের জন্য উন...    97182.0   \n\n        rating_point  \n150849           4.5  \n139086           5.0  \n141585           5.0  \n88146            5.0  \n379006           4.5  \n318285           4.0  \n1581             4.5  \n89822            5.0  \n376897           4.5  \n207869           5.0  \n303878           5.0  \n216578           4.5  \n67046            5.0  \n341025           5.0  \n91975            5.0  \n339063           5.0  \n413790           5.0  \n197165           5.0  \n301030           5.0  \n408419           4.5  ",
            "text/html": "<div>\n<style scoped>\n    .dataframe tbody tr th:only-of-type {\n        vertical-align: middle;\n    }\n\n    .dataframe tbody tr th {\n        vertical-align: top;\n    }\n\n    .dataframe thead th {\n        text-align: right;\n    }\n</style>\n<table border=\"1\" class=\"dataframe\">\n  <thead>\n    <tr style=\"text-align: right;\">\n      <th></th>\n      <th>id</th>\n      <th>title</th>\n      <th>user_id</th>\n      <th>rating_point</th>\n    </tr>\n  </thead>\n  <tbody>\n    <tr>\n      <th>150849</th>\n      <td>1</td>\n      <td>মাল্টিমিডিয়া কনটেন্ট তৈরি -MMCD (সকলের জন্য উন...</td>\n      <td>91110.0</td>\n      <td>4.5</td>\n    </tr>\n    <tr>\n      <th>139086</th>\n      <td>1</td>\n      <td>মাল্টিমিডিয়া কনটেন্ট তৈরি -MMCD (সকলের জন্য উন...</td>\n      <td>113153.0</td>\n      <td>5.0</td>\n    </tr>\n    <tr>\n      <th>141585</th>\n      <td>1</td>\n      <td>মাল্টিমিডিয়া কনটেন্ট তৈরি -MMCD (সকলের জন্য উন...</td>\n      <td>84787.0</td>\n      <td>5.0</td>\n    </tr>\n    <tr>\n      <th>88146</th>\n      <td>1</td>\n      <td>মাল্টিমিডিয়া কনটেন্ট তৈরি -MMCD (সকলের জন্য উন...</td>\n      <td>92938.0</td>\n      <td>5.0</td>\n    </tr>\n    <tr>\n      <th>379006</th>\n      <td>1</td>\n      <td>মাল্টিমিডিয়া কনটেন্ট তৈরি -MMCD (সকলের জন্য উন...</td>\n      <td>99474.0</td>\n      <td>4.5</td>\n    </tr>\n    <tr>\n      <th>318285</th>\n      <td>1</td>\n      <td>মাল্টিমিডিয়া কনটেন্ট তৈরি -MMCD (সকলের জন্য উন...</td>\n      <td>3100552.0</td>\n      <td>4.0</td>\n    </tr>\n    <tr>\n      <th>1581</th>\n      <td>1</td>\n      <td>মাল্টিমিডিয়া কনটেন্ট তৈরি -MMCD (সকলের জন্য উন...</td>\n      <td>106773.0</td>\n      <td>4.5</td>\n    </tr>\n    <tr>\n      <th>89822</th>\n      <td>1</td>\n      <td>মাল্টিমিডিয়া কনটেন্ট তৈরি -MMCD (সকলের জন্য উন...</td>\n      <td>1116.0</td>\n      <td>5.0</td>\n    </tr>\n    <tr>\n      <th>376897</th>\n      <td>1</td>\n      <td>মাল্টিমিডিয়া কনটেন্ট তৈরি -MMCD (সকলের জন্য উন...</td>\n      <td>50597.0</td>\n      <td>4.5</td>\n    </tr>\n    <tr>\n      <th>207869</th>\n      <td>1</td>\n      <td>মাল্টিমিডিয়া কনটেন্ট তৈরি -MMCD (সকলের জন্য উন...</td>\n      <td>99011.0</td>\n      <td>5.0</td>\n    </tr>\n    <tr>\n      <th>303878</th>\n      <td>1</td>\n      <td>মাল্টিমিডিয়া কনটেন্ট তৈরি -MMCD (সকলের জন্য উন...</td>\n      <td>101844.0</td>\n      <td>5.0</td>\n    </tr>\n    <tr>\n      <th>216578</th>\n      <td>1</td>\n      <td>মাল্টিমিডিয়া কনটেন্ট তৈরি -MMCD (সকলের জন্য উন...</td>\n      <td>100246.0</td>\n      <td>4.5</td>\n    </tr>\n    <tr>\n      <th>67046</th>\n      <td>1</td>\n      <td>মাল্টিমিডিয়া কনটেন্ট তৈরি -MMCD (সকলের জন্য উন...</td>\n      <td>91895.0</td>\n      <td>5.0</td>\n    </tr>\n    <tr>\n      <th>341025</th>\n      <td>1</td>\n      <td>মাল্টিমিডিয়া কনটেন্ট তৈরি -MMCD (সকলের জন্য উন...</td>\n      <td>3104852.0</td>\n      <td>5.0</td>\n    </tr>\n    <tr>\n      <th>91975</th>\n      <td>1</td>\n      <td>মাল্টিমিডিয়া কনটেন্ট তৈরি -MMCD (সকলের জন্য উন...</td>\n      <td>23593.0</td>\n      <td>5.0</td>\n    </tr>\n    <tr>\n      <th>339063</th>\n      <td>1</td>\n      <td>মাল্টিমিডিয়া কনটেন্ট তৈরি -MMCD (সকলের জন্য উন...</td>\n      <td>91941.0</td>\n      <td>5.0</td>\n    </tr>\n    <tr>\n      <th>413790</th>\n      <td>1</td>\n      <td>মাল্টিমিডিয়া কনটেন্ট তৈরি -MMCD (সকলের জন্য উন...</td>\n      <td>3079428.0</td>\n      <td>5.0</td>\n    </tr>\n    <tr>\n      <th>197165</th>\n      <td>1</td>\n      <td>মাল্টিমিডিয়া কনটেন্ট তৈরি -MMCD (সকলের জন্য উন...</td>\n      <td>91158.0</td>\n      <td>5.0</td>\n    </tr>\n    <tr>\n      <th>301030</th>\n      <td>1</td>\n      <td>মাল্টিমিডিয়া কনটেন্ট তৈরি -MMCD (সকলের জন্য উন...</td>\n      <td>119630.0</td>\n      <td>5.0</td>\n    </tr>\n    <tr>\n      <th>408419</th>\n      <td>1</td>\n      <td>মাল্টিমিডিয়া কনটেন্ট তৈরি -MMCD (সকলের জন্য উন...</td>\n      <td>97182.0</td>\n      <td>4.5</td>\n    </tr>\n  </tbody>\n</table>\n</div>"
          },
          "metadata": {}
        }
      ]
    },
    {
      "cell_type": "code",
      "source": [
        "course.shape"
      ],
      "metadata": {
        "execution": {
          "iopub.status.busy": "2023-08-17T04:53:13.986954Z",
          "iopub.execute_input": "2023-08-17T04:53:13.987391Z",
          "iopub.status.idle": "2023-08-17T04:53:13.992491Z",
          "shell.execute_reply.started": "2023-08-17T04:53:13.987357Z",
          "shell.execute_reply": "2023-08-17T04:53:13.99198Z"
        },
        "trusted": true,
        "id": "p0RsKONAzbWI",
        "outputId": "e09f769d-a8f1-4492-c913-32d2d93fd9bd"
      },
      "execution_count": null,
      "outputs": [
        {
          "execution_count": 39,
          "output_type": "execute_result",
          "data": {
            "text/plain": "(932746, 4)"
          },
          "metadata": {}
        }
      ]
    },
    {
      "cell_type": "markdown",
      "source": [
        "# Let's Start analyse the data!"
      ],
      "metadata": {
        "id": "FlkWh0oXzbWI"
      }
    },
    {
      "cell_type": "code",
      "source": [
        "# Let's find the unique courses:\n",
        "course[\"title\"].nunique()"
      ],
      "metadata": {
        "execution": {
          "iopub.status.busy": "2023-08-17T04:53:13.993478Z",
          "iopub.execute_input": "2023-08-17T04:53:13.993815Z",
          "iopub.status.idle": "2023-08-17T04:53:14.188441Z",
          "shell.execute_reply.started": "2023-08-17T04:53:13.993784Z",
          "shell.execute_reply": "2023-08-17T04:53:14.187575Z"
        },
        "trusted": true,
        "id": "cT_SxKvJzbWI",
        "outputId": "1a2139cb-1fdd-4394-a585-7e4a952f3d52"
      },
      "execution_count": null,
      "outputs": [
        {
          "execution_count": 40,
          "output_type": "execute_result",
          "data": {
            "text/plain": "135"
          },
          "metadata": {}
        }
      ]
    },
    {
      "cell_type": "code",
      "source": [
        " #find the unique users:\n",
        "course[\"user_id\"].nunique()"
      ],
      "metadata": {
        "execution": {
          "iopub.status.busy": "2023-08-17T04:53:14.189605Z",
          "iopub.execute_input": "2023-08-17T04:53:14.190123Z",
          "iopub.status.idle": "2023-08-17T04:53:14.241391Z",
          "shell.execute_reply.started": "2023-08-17T04:53:14.190087Z",
          "shell.execute_reply": "2023-08-17T04:53:14.240538Z"
        },
        "trusted": true,
        "id": "sd5DtM2CzbWI",
        "outputId": "99fc1902-c4a3-44b8-c2ed-b32f0858cf9d"
      },
      "execution_count": null,
      "outputs": [
        {
          "execution_count": 41,
          "output_type": "execute_result",
          "data": {
            "text/plain": "442382"
          },
          "metadata": {}
        }
      ]
    },
    {
      "cell_type": "code",
      "source": [
        "#see how many users were made on which course:\n",
        "course[\"title\"].value_counts().head()"
      ],
      "metadata": {
        "execution": {
          "iopub.status.busy": "2023-08-17T04:53:14.242566Z",
          "iopub.execute_input": "2023-08-17T04:53:14.24284Z",
          "iopub.status.idle": "2023-08-17T04:53:14.321628Z",
          "shell.execute_reply.started": "2023-08-17T04:53:14.242811Z",
          "shell.execute_reply": "2023-08-17T04:53:14.32024Z"
        },
        "trusted": true,
        "id": "ULmDd-Q4zbWJ",
        "outputId": "105b11b5-cd72-4835-9bad-e9dda770099f"
      },
      "execution_count": null,
      "outputs": [
        {
          "execution_count": 42,
          "output_type": "execute_result",
          "data": {
            "text/plain": "শুধুমাত্র শিক্ষকদের জন্য (যাদের শিক্ষক আইডি আছে)    641551\nBatch-1                                             203989\nMyGov for Government Employees                       13135\nMyGov for Citizens                                    9830\n১ম ব্যাচ                                              6874\nName: title, dtype: int64"
          },
          "metadata": {}
        }
      ]
    },
    {
      "cell_type": "code",
      "source": [
        "# get to the courses with less than 1000 reviews:\n",
        "#comment_counts = pd.DataFrame(df[\"title\"].value_counts())\n",
        "#rare_courses = comment_counts[comment_counts[\"title\"] <= 1000].index\n",
        "\n",
        "# get access to courses with over 1000 reviews:\n",
        "#common_courses = df[~df[\"title\"].isin(rare_courses)]\n",
        "#common_courses.shape"
      ],
      "metadata": {
        "execution": {
          "iopub.status.busy": "2023-08-17T04:53:14.323014Z",
          "iopub.execute_input": "2023-08-17T04:53:14.323467Z",
          "iopub.status.idle": "2023-08-17T04:53:14.329602Z",
          "shell.execute_reply.started": "2023-08-17T04:53:14.323422Z",
          "shell.execute_reply": "2023-08-17T04:53:14.32864Z"
        },
        "trusted": true,
        "id": "J1U_XiHmzbWJ"
      },
      "execution_count": null,
      "outputs": []
    },
    {
      "cell_type": "code",
      "source": [
        "# Unique courses with more than 1000 reviews:\n",
        "#commoncourses[\"title\"].nunique()"
      ],
      "metadata": {
        "execution": {
          "iopub.status.busy": "2023-08-17T04:53:14.332011Z",
          "iopub.execute_input": "2023-08-17T04:53:14.332503Z",
          "iopub.status.idle": "2023-08-17T04:53:14.347791Z",
          "shell.execute_reply.started": "2023-08-17T04:53:14.332452Z",
          "shell.execute_reply": "2023-08-17T04:53:14.34597Z"
        },
        "trusted": true,
        "id": "zOsjd6cEzbWJ"
      },
      "execution_count": null,
      "outputs": []
    },
    {
      "cell_type": "code",
      "source": [
        "# create the User course Df:\n",
        "user_course_df = course.pivot_table(index=[\"user_id\"], columns=[\"title\"], values=\"rating_point\")\n",
        "\n",
        "#courses that users have voted for.\n",
        "user_course_df.shape"
      ],
      "metadata": {
        "execution": {
          "iopub.status.busy": "2023-08-17T04:53:14.349893Z",
          "iopub.execute_input": "2023-08-17T04:53:14.350241Z",
          "iopub.status.idle": "2023-08-17T04:53:15.777387Z",
          "shell.execute_reply.started": "2023-08-17T04:53:14.350205Z",
          "shell.execute_reply": "2023-08-17T04:53:15.776112Z"
        },
        "trusted": true,
        "id": "r4EJjL0fzbWJ",
        "outputId": "46b5ed31-14cf-4735-c47c-570f1c4d68d7"
      },
      "execution_count": null,
      "outputs": [
        {
          "execution_count": 45,
          "output_type": "execute_result",
          "data": {
            "text/plain": "(439426, 122)"
          },
          "metadata": {}
        }
      ]
    },
    {
      "cell_type": "code",
      "source": [
        "user_course_df.head(5)"
      ],
      "metadata": {
        "execution": {
          "iopub.status.busy": "2023-08-17T04:53:15.77871Z",
          "iopub.execute_input": "2023-08-17T04:53:15.779066Z",
          "iopub.status.idle": "2023-08-17T04:53:15.809379Z",
          "shell.execute_reply.started": "2023-08-17T04:53:15.779028Z",
          "shell.execute_reply": "2023-08-17T04:53:15.808249Z"
        },
        "trusted": true,
        "id": "Qco7eVFlzbWK",
        "outputId": "f78fd71b-2202-4f7e-8c06-5295c828e0b4"
      },
      "execution_count": null,
      "outputs": [
        {
          "execution_count": 46,
          "output_type": "execute_result",
          "data": {
            "text/plain": "title    (BTT) বেসিক টিচার্স ট্রেনিং কোর্স- ৩য় ব্যাচ  \\\nuser_id                                                \n1.0                                              NaN   \n22.0                                             NaN   \n23.0                                             NaN   \n25.0                                             NaN   \n67.0                                             NaN   \n68.0                                             NaN   \n71.0                                             NaN   \n74.0                                             NaN   \n76.0                                             NaN   \n80.0                                             NaN   \n\ntitle    (BTT) বেসিক টিচার্স ট্রেনিং কোর্স- ৪র্থ ব্যাচ  \\\nuser_id                                                  \n1.0                                                NaN   \n22.0                                               NaN   \n23.0                                               NaN   \n25.0                                               NaN   \n67.0                                               NaN   \n68.0                                               NaN   \n71.0                                               NaN   \n74.0                                               NaN   \n76.0                                               NaN   \n80.0                                               NaN   \n\ntitle    (BTT) বেসিক টিচার্স ট্রেনিং কোর্স- ৫ম ব্যাচ  \\\nuser_id                                                \n1.0                                              NaN   \n22.0                                             NaN   \n23.0                                             NaN   \n25.0                                             NaN   \n67.0                                             NaN   \n68.0                                             NaN   \n71.0                                             NaN   \n74.0                                             NaN   \n76.0                                             NaN   \n80.0                                             NaN   \n\ntitle    B.Sc Nursing: Fundaments of Nursing-2 (Paper I)  \\\nuser_id                                                    \n1.0                                                  NaN   \n22.0                                                 NaN   \n23.0                                                 NaN   \n25.0                                                 NaN   \n67.0                                                 NaN   \n68.0                                                 NaN   \n71.0                                                 NaN   \n74.0                                                 NaN   \n76.0                                                 NaN   \n80.0                                                 NaN   \n\ntitle    B.Sc Nursing: Newborn Nursing  BLMT-2  Batch-1  Batch-1 (April-2021)  \\\nuser_id                                                                         \n1.0                                NaN     NaN      3.5                   NaN   \n22.0                               NaN     NaN      NaN                   NaN   \n23.0                               NaN     NaN      NaN                   NaN   \n25.0                               NaN     NaN      NaN                   NaN   \n67.0                               NaN     NaN      NaN                   NaN   \n68.0                               NaN     NaN      5.0                   NaN   \n71.0                               NaN     NaN      3.5                   5.0   \n74.0                               NaN     NaN      NaN                   NaN   \n76.0                               NaN     NaN      NaN                   NaN   \n80.0                               NaN     NaN      NaN                   NaN   \n\ntitle    Batch-2  C-Programming (সি প্রোগ্রামিং)- ২য় ব্যাচ  ...  \\\nuser_id                                                     ...   \n1.0          NaN                                       NaN  ...   \n22.0         NaN                                       NaN  ...   \n23.0         NaN                                       NaN  ...   \n25.0         NaN                                       NaN  ...   \n67.0         NaN                                       NaN  ...   \n68.0         NaN                                       NaN  ...   \n71.0         NaN                                       NaN  ...   \n74.0         NaN                                       NaN  ...   \n76.0         NaN                                       NaN  ...   \n80.0         NaN                                       NaN  ...   \n\ntitle    সাইবার সিকিউরিটি কোর্স [পরীক্ষামূলক কোর্স]  \\\nuser_id                                               \n1.0                                             NaN   \n22.0                                            NaN   \n23.0                                            NaN   \n25.0                                            NaN   \n67.0                                            NaN   \n68.0                                            NaN   \n71.0                                            NaN   \n74.0                                            NaN   \n76.0                                            NaN   \n80.0                                            NaN   \n\ntitle    সৃজনশীল প্রশ্নের উত্তরপত্র মূল্যায়ন: পদার্থবিজ্ঞান (৩য় ব্যাচ)  \\\nuser_id                                                                  \n1.0                                                    NaN               \n22.0                                                   NaN               \n23.0                                                   NaN               \n25.0                                                   NaN               \n67.0                                                   NaN               \n68.0                                                   NaN               \n71.0                                                   NaN               \n74.0                                                   NaN               \n76.0                                                   NaN               \n80.0                                                   NaN               \n\ntitle    স্কুলে নৈতিকতা মূল্যবোধের শিক্ষা এবং সহানুভূতি শেখানো - ব্যাচ ১  \\\nuser_id                                                                    \n1.0                                                    NaN                 \n22.0                                                   NaN                 \n23.0                                                   NaN                 \n25.0                                                   NaN                 \n67.0                                                   NaN                 \n68.0                                                   NaN                 \n71.0                                                   NaN                 \n74.0                                                   NaN                 \n76.0                                                   NaN                 \n80.0                                                   NaN                 \n\ntitle    স্বল্প পুঁজিতে কোয়েল পালন (Quail Farming in Low Budget)  \\\nuser_id                                                            \n1.0                                                    NaN         \n22.0                                                   NaN         \n23.0                                                   NaN         \n25.0                                                   NaN         \n67.0                                                   NaN         \n68.0                                                   NaN         \n71.0                                                   NaN         \n74.0                                                   NaN         \n76.0                                                   NaN         \n80.0                                                   NaN         \n\ntitle    স্বল্প পুঁজিতে কোয়েল পালন: ১ম ব্যাচ (Quail Farming in Low Budget)  \\\nuser_id                                                                      \n1.0                                                    NaN                   \n22.0                                                   NaN                   \n23.0                                                   NaN                   \n25.0                                                   NaN                   \n67.0                                                   NaN                   \n68.0                                                   NaN                   \n71.0                                                   NaN                   \n74.0                                                   NaN                   \n76.0                                                   NaN                   \n80.0                                                   NaN                   \n\ntitle    স্বল্প পুঁজিতে কোয়েল পালন: ২য় ব্যাচ (Quail Farming in Low Budget)  \\\nuser_id                                                                      \n1.0                                                    NaN                   \n22.0                                                   NaN                   \n23.0                                                   NaN                   \n25.0                                                   NaN                   \n67.0                                                   NaN                   \n68.0                                                   NaN                   \n71.0                                                   NaN                   \n74.0                                                   NaN                   \n76.0                                                   NaN                   \n80.0                                                   NaN                   \n\ntitle    স্বল্প পুঁজিতে কোয়েল পালন: ৩য় ব্যাচ  \\\nuser_id                                        \n1.0                                      NaN   \n22.0                                     NaN   \n23.0                                     NaN   \n25.0                                     NaN   \n67.0                                     NaN   \n68.0                                     NaN   \n71.0                                     NaN   \n74.0                                     NaN   \n76.0                                     NaN   \n80.0                                     NaN   \n\ntitle    হাউস কিপিং: গৃহকর্ম প্রশিক্ষণ (House Keeping)  ১ম ব্যাচ  \\\nuser_id                                                            \n1.0                                                3.5       NaN   \n22.0                                               NaN       NaN   \n23.0                                               NaN       NaN   \n25.0                                               NaN       NaN   \n67.0                                               NaN       NaN   \n68.0                                               NaN       NaN   \n71.0                                               NaN       NaN   \n74.0                                               NaN       NaN   \n76.0                                               NaN       NaN   \n80.0                                               NaN       NaN   \n\ntitle    ৩৯তম বিসিএস (স্বাস্থ্য) ওরিয়েন্টশন প্রশিক্ষণ  \nuser_id                                                \n1.0                                               NaN  \n22.0                                              NaN  \n23.0                                              NaN  \n25.0                                              NaN  \n67.0                                              NaN  \n68.0                                              NaN  \n71.0                                              NaN  \n74.0                                              NaN  \n76.0                                              NaN  \n80.0                                              NaN  \n\n[10 rows x 122 columns]",
            "text/html": "<div>\n<style scoped>\n    .dataframe tbody tr th:only-of-type {\n        vertical-align: middle;\n    }\n\n    .dataframe tbody tr th {\n        vertical-align: top;\n    }\n\n    .dataframe thead th {\n        text-align: right;\n    }\n</style>\n<table border=\"1\" class=\"dataframe\">\n  <thead>\n    <tr style=\"text-align: right;\">\n      <th>title</th>\n      <th>(BTT) বেসিক টিচার্স ট্রেনিং কোর্স- ৩য় ব্যাচ</th>\n      <th>(BTT) বেসিক টিচার্স ট্রেনিং কোর্স- ৪র্থ ব্যাচ</th>\n      <th>(BTT) বেসিক টিচার্স ট্রেনিং কোর্স- ৫ম ব্যাচ</th>\n      <th>B.Sc Nursing: Fundaments of Nursing-2 (Paper I)</th>\n      <th>B.Sc Nursing: Newborn Nursing</th>\n      <th>BLMT-2</th>\n      <th>Batch-1</th>\n      <th>Batch-1 (April-2021)</th>\n      <th>Batch-2</th>\n      <th>C-Programming (সি প্রোগ্রামিং)- ২য় ব্যাচ</th>\n      <th>...</th>\n      <th>সাইবার সিকিউরিটি কোর্স [পরীক্ষামূলক কোর্স]</th>\n      <th>সৃজনশীল প্রশ্নের উত্তরপত্র মূল্যায়ন: পদার্থবিজ্ঞান (৩য় ব্যাচ)</th>\n      <th>স্কুলে নৈতিকতা মূল্যবোধের শিক্ষা এবং সহানুভূতি শেখানো - ব্যাচ ১</th>\n      <th>স্বল্প পুঁজিতে কোয়েল পালন (Quail Farming in Low Budget)</th>\n      <th>স্বল্প পুঁজিতে কোয়েল পালন: ১ম ব্যাচ (Quail Farming in Low Budget)</th>\n      <th>স্বল্প পুঁজিতে কোয়েল পালন: ২য় ব্যাচ (Quail Farming in Low Budget)</th>\n      <th>স্বল্প পুঁজিতে কোয়েল পালন: ৩য় ব্যাচ</th>\n      <th>হাউস কিপিং: গৃহকর্ম প্রশিক্ষণ (House Keeping)</th>\n      <th>১ম ব্যাচ</th>\n      <th>৩৯তম বিসিএস (স্বাস্থ্য) ওরিয়েন্টশন প্রশিক্ষণ</th>\n    </tr>\n    <tr>\n      <th>user_id</th>\n      <th></th>\n      <th></th>\n      <th></th>\n      <th></th>\n      <th></th>\n      <th></th>\n      <th></th>\n      <th></th>\n      <th></th>\n      <th></th>\n      <th></th>\n      <th></th>\n      <th></th>\n      <th></th>\n      <th></th>\n      <th></th>\n      <th></th>\n      <th></th>\n      <th></th>\n      <th></th>\n      <th></th>\n    </tr>\n  </thead>\n  <tbody>\n    <tr>\n      <th>1.0</th>\n      <td>NaN</td>\n      <td>NaN</td>\n      <td>NaN</td>\n      <td>NaN</td>\n      <td>NaN</td>\n      <td>NaN</td>\n      <td>3.5</td>\n      <td>NaN</td>\n      <td>NaN</td>\n      <td>NaN</td>\n      <td>...</td>\n      <td>NaN</td>\n      <td>NaN</td>\n      <td>NaN</td>\n      <td>NaN</td>\n      <td>NaN</td>\n      <td>NaN</td>\n      <td>NaN</td>\n      <td>3.5</td>\n      <td>NaN</td>\n      <td>NaN</td>\n    </tr>\n    <tr>\n      <th>22.0</th>\n      <td>NaN</td>\n      <td>NaN</td>\n      <td>NaN</td>\n      <td>NaN</td>\n      <td>NaN</td>\n      <td>NaN</td>\n      <td>NaN</td>\n      <td>NaN</td>\n      <td>NaN</td>\n      <td>NaN</td>\n      <td>...</td>\n      <td>NaN</td>\n      <td>NaN</td>\n      <td>NaN</td>\n      <td>NaN</td>\n      <td>NaN</td>\n      <td>NaN</td>\n      <td>NaN</td>\n      <td>NaN</td>\n      <td>NaN</td>\n      <td>NaN</td>\n    </tr>\n    <tr>\n      <th>23.0</th>\n      <td>NaN</td>\n      <td>NaN</td>\n      <td>NaN</td>\n      <td>NaN</td>\n      <td>NaN</td>\n      <td>NaN</td>\n      <td>NaN</td>\n      <td>NaN</td>\n      <td>NaN</td>\n      <td>NaN</td>\n      <td>...</td>\n      <td>NaN</td>\n      <td>NaN</td>\n      <td>NaN</td>\n      <td>NaN</td>\n      <td>NaN</td>\n      <td>NaN</td>\n      <td>NaN</td>\n      <td>NaN</td>\n      <td>NaN</td>\n      <td>NaN</td>\n    </tr>\n    <tr>\n      <th>25.0</th>\n      <td>NaN</td>\n      <td>NaN</td>\n      <td>NaN</td>\n      <td>NaN</td>\n      <td>NaN</td>\n      <td>NaN</td>\n      <td>NaN</td>\n      <td>NaN</td>\n      <td>NaN</td>\n      <td>NaN</td>\n      <td>...</td>\n      <td>NaN</td>\n      <td>NaN</td>\n      <td>NaN</td>\n      <td>NaN</td>\n      <td>NaN</td>\n      <td>NaN</td>\n      <td>NaN</td>\n      <td>NaN</td>\n      <td>NaN</td>\n      <td>NaN</td>\n    </tr>\n    <tr>\n      <th>67.0</th>\n      <td>NaN</td>\n      <td>NaN</td>\n      <td>NaN</td>\n      <td>NaN</td>\n      <td>NaN</td>\n      <td>NaN</td>\n      <td>NaN</td>\n      <td>NaN</td>\n      <td>NaN</td>\n      <td>NaN</td>\n      <td>...</td>\n      <td>NaN</td>\n      <td>NaN</td>\n      <td>NaN</td>\n      <td>NaN</td>\n      <td>NaN</td>\n      <td>NaN</td>\n      <td>NaN</td>\n      <td>NaN</td>\n      <td>NaN</td>\n      <td>NaN</td>\n    </tr>\n    <tr>\n      <th>68.0</th>\n      <td>NaN</td>\n      <td>NaN</td>\n      <td>NaN</td>\n      <td>NaN</td>\n      <td>NaN</td>\n      <td>NaN</td>\n      <td>5.0</td>\n      <td>NaN</td>\n      <td>NaN</td>\n      <td>NaN</td>\n      <td>...</td>\n      <td>NaN</td>\n      <td>NaN</td>\n      <td>NaN</td>\n      <td>NaN</td>\n      <td>NaN</td>\n      <td>NaN</td>\n      <td>NaN</td>\n      <td>NaN</td>\n      <td>NaN</td>\n      <td>NaN</td>\n    </tr>\n    <tr>\n      <th>71.0</th>\n      <td>NaN</td>\n      <td>NaN</td>\n      <td>NaN</td>\n      <td>NaN</td>\n      <td>NaN</td>\n      <td>NaN</td>\n      <td>3.5</td>\n      <td>5.0</td>\n      <td>NaN</td>\n      <td>NaN</td>\n      <td>...</td>\n      <td>NaN</td>\n      <td>NaN</td>\n      <td>NaN</td>\n      <td>NaN</td>\n      <td>NaN</td>\n      <td>NaN</td>\n      <td>NaN</td>\n      <td>NaN</td>\n      <td>NaN</td>\n      <td>NaN</td>\n    </tr>\n    <tr>\n      <th>74.0</th>\n      <td>NaN</td>\n      <td>NaN</td>\n      <td>NaN</td>\n      <td>NaN</td>\n      <td>NaN</td>\n      <td>NaN</td>\n      <td>NaN</td>\n      <td>NaN</td>\n      <td>NaN</td>\n      <td>NaN</td>\n      <td>...</td>\n      <td>NaN</td>\n      <td>NaN</td>\n      <td>NaN</td>\n      <td>NaN</td>\n      <td>NaN</td>\n      <td>NaN</td>\n      <td>NaN</td>\n      <td>NaN</td>\n      <td>NaN</td>\n      <td>NaN</td>\n    </tr>\n    <tr>\n      <th>76.0</th>\n      <td>NaN</td>\n      <td>NaN</td>\n      <td>NaN</td>\n      <td>NaN</td>\n      <td>NaN</td>\n      <td>NaN</td>\n      <td>NaN</td>\n      <td>NaN</td>\n      <td>NaN</td>\n      <td>NaN</td>\n      <td>...</td>\n      <td>NaN</td>\n      <td>NaN</td>\n      <td>NaN</td>\n      <td>NaN</td>\n      <td>NaN</td>\n      <td>NaN</td>\n      <td>NaN</td>\n      <td>NaN</td>\n      <td>NaN</td>\n      <td>NaN</td>\n    </tr>\n    <tr>\n      <th>80.0</th>\n      <td>NaN</td>\n      <td>NaN</td>\n      <td>NaN</td>\n      <td>NaN</td>\n      <td>NaN</td>\n      <td>NaN</td>\n      <td>NaN</td>\n      <td>NaN</td>\n      <td>NaN</td>\n      <td>NaN</td>\n      <td>...</td>\n      <td>NaN</td>\n      <td>NaN</td>\n      <td>NaN</td>\n      <td>NaN</td>\n      <td>NaN</td>\n      <td>NaN</td>\n      <td>NaN</td>\n      <td>NaN</td>\n      <td>NaN</td>\n      <td>NaN</td>\n    </tr>\n  </tbody>\n</table>\n<p>10 rows × 122 columns</p>\n</div>"
          },
          "metadata": {}
        }
      ]
    },
    {
      "cell_type": "code",
      "source": [
        "notnull_df = user_course_df.notnull()\n",
        "count_series = notnull_df.sum(axis=1)\n",
        "max_index = count_series.idxmax()\n",
        "print(\"Row with most non-null values: \", max_index)\n",
        "print(\"Count of non-null values: \", count_series[max_index])"
      ],
      "metadata": {
        "execution": {
          "iopub.status.busy": "2023-08-17T04:53:15.810872Z",
          "iopub.execute_input": "2023-08-17T04:53:15.811154Z",
          "iopub.status.idle": "2023-08-17T04:53:15.933819Z",
          "shell.execute_reply.started": "2023-08-17T04:53:15.811126Z",
          "shell.execute_reply": "2023-08-17T04:53:15.932364Z"
        },
        "trusted": true,
        "id": "XU-KIOjHzbWK",
        "outputId": "d1c4150a-1647-4c96-da1d-c4b134f984a5"
      },
      "execution_count": null,
      "outputs": [
        {
          "name": "stdout",
          "text": "Row with most non-null values:  3079428.0\nCount of non-null values:  81\n",
          "output_type": "stream"
        }
      ]
    },
    {
      "cell_type": "code",
      "source": [
        "# item-based course recommendation example:\n",
        "course_name = \"মাল্টিমিডিয়া কনটেন্ট তৈরি -MMCD (সকলের জন্য উন্মুক্ত DCD)\"\n",
        "course_name = user_course_df[course_name]\n",
        "user_course_df.corrwith(course_name).sort_values(ascending=False).head(10)"
      ],
      "metadata": {
        "execution": {
          "iopub.status.busy": "2023-08-17T04:53:15.935911Z",
          "iopub.execute_input": "2023-08-17T04:53:15.936334Z",
          "iopub.status.idle": "2023-08-17T04:53:16.581449Z",
          "shell.execute_reply.started": "2023-08-17T04:53:15.936291Z",
          "shell.execute_reply": "2023-08-17T04:53:16.579997Z"
        },
        "trusted": true,
        "id": "UkruiCjczbWK",
        "outputId": "d09bcc59-5716-4ed4-e1f9-1c6350d9d21c"
      },
      "execution_count": null,
      "outputs": [
        {
          "name": "stderr",
          "text": "/opt/conda/lib/python3.7/site-packages/numpy/lib/function_base.py:2551: RuntimeWarning: Degrees of freedom <= 0 for slice\n  c = cov(x, y, rowvar)\n/opt/conda/lib/python3.7/site-packages/numpy/lib/function_base.py:2480: RuntimeWarning: divide by zero encountered in true_divide\n  c *= np.true_divide(1, fact)\n",
          "output_type": "stream"
        },
        {
          "execution_count": 48,
          "output_type": "execute_result",
          "data": {
            "text/plain": "title\nনথি (Nothi) অফিস ব্যবস্থাপনা (ই-ফাইল সিস্টেম)                                1.0\nব্যাচ- ২য়                                                                    1.0\nDiploma Nursing: Leadership and Management                                   1.0\nসঠিকভাবে পড়তে শেখা (Supplemantery Reading Materials Development) ২য় ব্যাচ    1.0\nশ্রেণি ব্যবস্থাপনার কৌশল (৫ম ব্যাচ)                                          1.0\nমাল্টিমিডিয়া কনটেন্ট তৈরি -MMCD (সকলের জন্য উন্মুক্ত DCD)                    1.0\nব্যাচ-২য়                                                                     1.0\nধানের ব্লাস্ট রোগ-৩য় ব্যাচ                                                   1.0\nব্যাচ- ৩য়                                                                    1.0\nব্যাচ - ১                                                                    1.0\ndtype: float64"
          },
          "metadata": {}
        }
      ]
    },
    {
      "cell_type": "code",
      "source": [
        "#determine the courses that the user watched.\n",
        "\n",
        "# choose random user:\n",
        "#random_user = int(pd.Series(user_course_df.index).sample(1, random_state=45).values)\n",
        "#random_user = 23593\n",
        "random_user = 3079428\n"
      ],
      "metadata": {
        "execution": {
          "iopub.status.busy": "2023-08-17T04:53:16.582948Z",
          "iopub.execute_input": "2023-08-17T04:53:16.583372Z",
          "iopub.status.idle": "2023-08-17T04:53:16.58864Z",
          "shell.execute_reply.started": "2023-08-17T04:53:16.583327Z",
          "shell.execute_reply": "2023-08-17T04:53:16.587353Z"
        },
        "trusted": true,
        "id": "B-rlSRTSzbWK"
      },
      "execution_count": null,
      "outputs": []
    },
    {
      "cell_type": "code",
      "source": [
        "#reduce the dataset to according to user:\n",
        "random_user_df = user_course_df[user_course_df.index == random_user]\n",
        "random_user_df"
      ],
      "metadata": {
        "execution": {
          "iopub.status.busy": "2023-08-17T04:53:16.589933Z",
          "iopub.execute_input": "2023-08-17T04:53:16.590221Z",
          "iopub.status.idle": "2023-08-17T04:53:16.623874Z",
          "shell.execute_reply.started": "2023-08-17T04:53:16.590186Z",
          "shell.execute_reply": "2023-08-17T04:53:16.622985Z"
        },
        "trusted": true,
        "id": "GvKPDO_7zbWK",
        "outputId": "4cb1f4b7-db9a-4d4e-e893-95e3673ead44"
      },
      "execution_count": null,
      "outputs": [
        {
          "execution_count": 50,
          "output_type": "execute_result",
          "data": {
            "text/plain": "title      (BTT) বেসিক টিচার্স ট্রেনিং কোর্স- ৩য় ব্যাচ  \\\nuser_id                                                  \n3079428.0                                          NaN   \n\ntitle      (BTT) বেসিক টিচার্স ট্রেনিং কোর্স- ৪র্থ ব্যাচ  \\\nuser_id                                                    \n3079428.0                                            5.0   \n\ntitle      (BTT) বেসিক টিচার্স ট্রেনিং কোর্স- ৫ম ব্যাচ  \\\nuser_id                                                  \n3079428.0                                          5.0   \n\ntitle      B.Sc Nursing: Fundaments of Nursing-2 (Paper I)  \\\nuser_id                                                      \n3079428.0                                              5.0   \n\ntitle      B.Sc Nursing: Newborn Nursing  BLMT-2  Batch-1  \\\nuser_id                                                     \n3079428.0                            5.0     NaN    4.975   \n\ntitle      Batch-1 (April-2021)  Batch-2  \\\nuser_id                                    \n3079428.0                   5.0      NaN   \n\ntitle      C-Programming (সি প্রোগ্রামিং)- ২য় ব্যাচ  ...  \\\nuser_id                                              ...   \n3079428.0                                       5.0  ...   \n\ntitle      সাইবার সিকিউরিটি কোর্স [পরীক্ষামূলক কোর্স]  \\\nuser_id                                                 \n3079428.0                                         5.0   \n\ntitle      সৃজনশীল প্রশ্নের উত্তরপত্র মূল্যায়ন: পদার্থবিজ্ঞান (৩য় ব্যাচ)  \\\nuser_id                                                                    \n3079428.0                                                NaN               \n\ntitle      স্কুলে নৈতিকতা মূল্যবোধের শিক্ষা এবং সহানুভূতি শেখানো - ব্যাচ ১  \\\nuser_id                                                                      \n3079428.0                                                NaN                 \n\ntitle      স্বল্প পুঁজিতে কোয়েল পালন (Quail Farming in Low Budget)  \\\nuser_id                                                              \n3079428.0                                                5.0         \n\ntitle      স্বল্প পুঁজিতে কোয়েল পালন: ১ম ব্যাচ (Quail Farming in Low Budget)  \\\nuser_id                                                                        \n3079428.0                                                5.0                   \n\ntitle      স্বল্প পুঁজিতে কোয়েল পালন: ২য় ব্যাচ (Quail Farming in Low Budget)  \\\nuser_id                                                                        \n3079428.0                                                5.0                   \n\ntitle      স্বল্প পুঁজিতে কোয়েল পালন: ৩য় ব্যাচ  \\\nuser_id                                          \n3079428.0                                  5.0   \n\ntitle      হাউস কিপিং: গৃহকর্ম প্রশিক্ষণ (House Keeping)  ১ম ব্যাচ  \\\nuser_id                                                              \n3079428.0                                            5.0       5.0   \n\ntitle      ৩৯তম বিসিএস (স্বাস্থ্য) ওরিয়েন্টশন প্রশিক্ষণ  \nuser_id                                                  \n3079428.0                                           5.0  \n\n[1 rows x 122 columns]",
            "text/html": "<div>\n<style scoped>\n    .dataframe tbody tr th:only-of-type {\n        vertical-align: middle;\n    }\n\n    .dataframe tbody tr th {\n        vertical-align: top;\n    }\n\n    .dataframe thead th {\n        text-align: right;\n    }\n</style>\n<table border=\"1\" class=\"dataframe\">\n  <thead>\n    <tr style=\"text-align: right;\">\n      <th>title</th>\n      <th>(BTT) বেসিক টিচার্স ট্রেনিং কোর্স- ৩য় ব্যাচ</th>\n      <th>(BTT) বেসিক টিচার্স ট্রেনিং কোর্স- ৪র্থ ব্যাচ</th>\n      <th>(BTT) বেসিক টিচার্স ট্রেনিং কোর্স- ৫ম ব্যাচ</th>\n      <th>B.Sc Nursing: Fundaments of Nursing-2 (Paper I)</th>\n      <th>B.Sc Nursing: Newborn Nursing</th>\n      <th>BLMT-2</th>\n      <th>Batch-1</th>\n      <th>Batch-1 (April-2021)</th>\n      <th>Batch-2</th>\n      <th>C-Programming (সি প্রোগ্রামিং)- ২য় ব্যাচ</th>\n      <th>...</th>\n      <th>সাইবার সিকিউরিটি কোর্স [পরীক্ষামূলক কোর্স]</th>\n      <th>সৃজনশীল প্রশ্নের উত্তরপত্র মূল্যায়ন: পদার্থবিজ্ঞান (৩য় ব্যাচ)</th>\n      <th>স্কুলে নৈতিকতা মূল্যবোধের শিক্ষা এবং সহানুভূতি শেখানো - ব্যাচ ১</th>\n      <th>স্বল্প পুঁজিতে কোয়েল পালন (Quail Farming in Low Budget)</th>\n      <th>স্বল্প পুঁজিতে কোয়েল পালন: ১ম ব্যাচ (Quail Farming in Low Budget)</th>\n      <th>স্বল্প পুঁজিতে কোয়েল পালন: ২য় ব্যাচ (Quail Farming in Low Budget)</th>\n      <th>স্বল্প পুঁজিতে কোয়েল পালন: ৩য় ব্যাচ</th>\n      <th>হাউস কিপিং: গৃহকর্ম প্রশিক্ষণ (House Keeping)</th>\n      <th>১ম ব্যাচ</th>\n      <th>৩৯তম বিসিএস (স্বাস্থ্য) ওরিয়েন্টশন প্রশিক্ষণ</th>\n    </tr>\n    <tr>\n      <th>user_id</th>\n      <th></th>\n      <th></th>\n      <th></th>\n      <th></th>\n      <th></th>\n      <th></th>\n      <th></th>\n      <th></th>\n      <th></th>\n      <th></th>\n      <th></th>\n      <th></th>\n      <th></th>\n      <th></th>\n      <th></th>\n      <th></th>\n      <th></th>\n      <th></th>\n      <th></th>\n      <th></th>\n      <th></th>\n    </tr>\n  </thead>\n  <tbody>\n    <tr>\n      <th>3079428.0</th>\n      <td>NaN</td>\n      <td>5.0</td>\n      <td>5.0</td>\n      <td>5.0</td>\n      <td>5.0</td>\n      <td>NaN</td>\n      <td>4.975</td>\n      <td>5.0</td>\n      <td>NaN</td>\n      <td>5.0</td>\n      <td>...</td>\n      <td>5.0</td>\n      <td>NaN</td>\n      <td>NaN</td>\n      <td>5.0</td>\n      <td>5.0</td>\n      <td>5.0</td>\n      <td>5.0</td>\n      <td>5.0</td>\n      <td>5.0</td>\n      <td>5.0</td>\n    </tr>\n  </tbody>\n</table>\n<p>1 rows × 122 columns</p>\n</div>"
          },
          "metadata": {}
        }
      ]
    },
    {
      "cell_type": "code",
      "source": [
        "#choose non-NaN. courses watched by all 28491:\n",
        "course_watched = random_user_df.columns[random_user_df.notna().any()].tolist()\n",
        "len(course_watched)"
      ],
      "metadata": {
        "execution": {
          "iopub.status.busy": "2023-08-17T05:13:26.117243Z",
          "iopub.execute_input": "2023-08-17T05:13:26.117712Z",
          "iopub.status.idle": "2023-08-17T05:13:26.126319Z",
          "shell.execute_reply.started": "2023-08-17T05:13:26.117677Z",
          "shell.execute_reply": "2023-08-17T05:13:26.125527Z"
        },
        "trusted": true,
        "id": "2dvdp2k0zbWK",
        "outputId": "ad002691-df0d-4d87-cb2b-7323ab586ad4"
      },
      "execution_count": null,
      "outputs": [
        {
          "execution_count": 70,
          "output_type": "execute_result",
          "data": {
            "text/plain": "81"
          },
          "metadata": {}
        }
      ]
    },
    {
      "cell_type": "code",
      "source": [
        "#verify dataframe:\n",
        "user_course_df.loc[user_course_df.index == random_user, user_course_df.columns == \"মাল্টিমিডিয়া ক্লাসরুম মনিটরিং এন্ড মেন্টরিং (১ম ব্যাচ)\"]\n",
        "# gave this course rating."
      ],
      "metadata": {
        "execution": {
          "iopub.status.busy": "2023-08-17T04:53:16.633108Z",
          "iopub.execute_input": "2023-08-17T04:53:16.633569Z",
          "iopub.status.idle": "2023-08-17T04:53:16.650692Z",
          "shell.execute_reply.started": "2023-08-17T04:53:16.633535Z",
          "shell.execute_reply": "2023-08-17T04:53:16.649448Z"
        },
        "trusted": true,
        "id": "pjkEYPaGzbWL",
        "outputId": "58f459fc-0c8a-4143-ddf2-dd58cab0a470"
      },
      "execution_count": null,
      "outputs": [
        {
          "execution_count": 52,
          "output_type": "execute_result",
          "data": {
            "text/plain": "title      মাল্টিমিডিয়া ক্লাসরুম মনিটরিং এন্ড মেন্টরিং (১ম ব্যাচ)\nuser_id                                                          \n3079428.0                                                5.0     ",
            "text/html": "<div>\n<style scoped>\n    .dataframe tbody tr th:only-of-type {\n        vertical-align: middle;\n    }\n\n    .dataframe tbody tr th {\n        vertical-align: top;\n    }\n\n    .dataframe thead th {\n        text-align: right;\n    }\n</style>\n<table border=\"1\" class=\"dataframe\">\n  <thead>\n    <tr style=\"text-align: right;\">\n      <th>title</th>\n      <th>মাল্টিমিডিয়া ক্লাসরুম মনিটরিং এন্ড মেন্টরিং (১ম ব্যাচ)</th>\n    </tr>\n    <tr>\n      <th>user_id</th>\n      <th></th>\n    </tr>\n  </thead>\n  <tbody>\n    <tr>\n      <th>3079428.0</th>\n      <td>5.0</td>\n    </tr>\n  </tbody>\n</table>\n</div>"
          },
          "metadata": {}
        }
      ]
    },
    {
      "cell_type": "code",
      "source": [
        "#How many courses have user watched:\n",
        "len(course_watched)"
      ],
      "metadata": {
        "execution": {
          "iopub.status.busy": "2023-08-17T04:53:16.651873Z",
          "iopub.execute_input": "2023-08-17T04:53:16.652249Z",
          "iopub.status.idle": "2023-08-17T04:53:16.658494Z",
          "shell.execute_reply.started": "2023-08-17T04:53:16.652217Z",
          "shell.execute_reply": "2023-08-17T04:53:16.657134Z"
        },
        "trusted": true,
        "id": "pjIOJ3plzbWL",
        "outputId": "41138554-7f0d-4648-df25-66950600b4c6"
      },
      "execution_count": null,
      "outputs": [
        {
          "execution_count": 53,
          "output_type": "execute_result",
          "data": {
            "text/plain": "81"
          },
          "metadata": {}
        }
      ]
    },
    {
      "cell_type": "code",
      "source": [
        "#reduce the dataset based on courses watched by user 28491:\n",
        "course_watched_df = user_course_df[course_watched]\n",
        "course_watched_df.head()\n",
        "#course_watched_df.shape"
      ],
      "metadata": {
        "execution": {
          "iopub.status.busy": "2023-08-17T04:53:16.659849Z",
          "iopub.execute_input": "2023-08-17T04:53:16.660107Z",
          "iopub.status.idle": "2023-08-17T04:53:16.841398Z",
          "shell.execute_reply.started": "2023-08-17T04:53:16.66008Z",
          "shell.execute_reply": "2023-08-17T04:53:16.839843Z"
        },
        "trusted": true,
        "id": "90IM-0NmzbWL",
        "outputId": "9bb334b3-95b4-44d7-ea0c-d0030e7d92e6"
      },
      "execution_count": null,
      "outputs": [
        {
          "execution_count": 54,
          "output_type": "execute_result",
          "data": {
            "text/plain": "title    (BTT) বেসিক টিচার্স ট্রেনিং কোর্স- ৪র্থ ব্যাচ  \\\nuser_id                                                  \n1.0                                                NaN   \n22.0                                               NaN   \n23.0                                               NaN   \n25.0                                               NaN   \n67.0                                               NaN   \n\ntitle    (BTT) বেসিক টিচার্স ট্রেনিং কোর্স- ৫ম ব্যাচ  \\\nuser_id                                                \n1.0                                              NaN   \n22.0                                             NaN   \n23.0                                             NaN   \n25.0                                             NaN   \n67.0                                             NaN   \n\ntitle    B.Sc Nursing: Fundaments of Nursing-2 (Paper I)  \\\nuser_id                                                    \n1.0                                                  NaN   \n22.0                                                 NaN   \n23.0                                                 NaN   \n25.0                                                 NaN   \n67.0                                                 NaN   \n\ntitle    B.Sc Nursing: Newborn Nursing  Batch-1  Batch-1 (April-2021)  \\\nuser_id                                                                 \n1.0                                NaN      3.5                   NaN   \n22.0                               NaN      NaN                   NaN   \n23.0                               NaN      NaN                   NaN   \n25.0                               NaN      NaN                   NaN   \n67.0                               NaN      NaN                   NaN   \n\ntitle    C-Programming (সি প্রোগ্রামিং)- ২য় ব্যাচ  \\\nuser_id                                             \n1.0                                           NaN   \n22.0                                          NaN   \n23.0                                          NaN   \n25.0                                          NaN   \n67.0                                          NaN   \n\ntitle    Diploma Nursing: Anatomy and Physiology  \\\nuser_id                                            \n1.0                                          NaN   \n22.0                                         NaN   \n23.0                                         NaN   \n25.0                                         NaN   \n67.0                                         NaN   \n\ntitle    Diploma Nursing: Leadership and Management  \\\nuser_id                                               \n1.0                                             NaN   \n22.0                                            NaN   \n23.0                                            NaN   \n25.0                                            NaN   \n67.0                                            NaN   \n\ntitle    MMCD-মাল্টিমিডিয়া কনটেন্ট তৈরি (সকলের জন্য উন্মুক্ত)- ২য় ব্যাচ  ...  \\\nuser_id                                                                  ...   \n1.0                                                    NaN               ...   \n22.0                                                   NaN               ...   \n23.0                                                   NaN               ...   \n25.0                                                   NaN               ...   \n67.0                                                   NaN               ...   \n\ntitle    সহজ ইংরেজি লেখার কৌশল -২য় ব্যাচ  \\\nuser_id                                    \n1.0                                  NaN   \n22.0                                 NaN   \n23.0                                 NaN   \n25.0                                 NaN   \n67.0                                 NaN   \n\ntitle    সাংবাদিকদের জন্য কোভিড-১৯ বিষয়ক প্রশিক্ষণ বাংলা কোর্স  \\\nuser_id                                                          \n1.0                                                    NaN       \n22.0                                                   NaN       \n23.0                                                   NaN       \n25.0                                                   NaN       \n67.0                                                   NaN       \n\ntitle    সাইবার সিকিউরিটি কোর্স [পরীক্ষামূলক কোর্স]  \\\nuser_id                                               \n1.0                                             NaN   \n22.0                                            NaN   \n23.0                                            NaN   \n25.0                                            NaN   \n67.0                                            NaN   \n\ntitle    স্বল্প পুঁজিতে কোয়েল পালন (Quail Farming in Low Budget)  \\\nuser_id                                                            \n1.0                                                    NaN         \n22.0                                                   NaN         \n23.0                                                   NaN         \n25.0                                                   NaN         \n67.0                                                   NaN         \n\ntitle    স্বল্প পুঁজিতে কোয়েল পালন: ১ম ব্যাচ (Quail Farming in Low Budget)  \\\nuser_id                                                                      \n1.0                                                    NaN                   \n22.0                                                   NaN                   \n23.0                                                   NaN                   \n25.0                                                   NaN                   \n67.0                                                   NaN                   \n\ntitle    স্বল্প পুঁজিতে কোয়েল পালন: ২য় ব্যাচ (Quail Farming in Low Budget)  \\\nuser_id                                                                      \n1.0                                                    NaN                   \n22.0                                                   NaN                   \n23.0                                                   NaN                   \n25.0                                                   NaN                   \n67.0                                                   NaN                   \n\ntitle    স্বল্প পুঁজিতে কোয়েল পালন: ৩য় ব্যাচ  \\\nuser_id                                        \n1.0                                      NaN   \n22.0                                     NaN   \n23.0                                     NaN   \n25.0                                     NaN   \n67.0                                     NaN   \n\ntitle    হাউস কিপিং: গৃহকর্ম প্রশিক্ষণ (House Keeping)  ১ম ব্যাচ  \\\nuser_id                                                            \n1.0                                                3.5       NaN   \n22.0                                               NaN       NaN   \n23.0                                               NaN       NaN   \n25.0                                               NaN       NaN   \n67.0                                               NaN       NaN   \n\ntitle    ৩৯তম বিসিএস (স্বাস্থ্য) ওরিয়েন্টশন প্রশিক্ষণ  \nuser_id                                                \n1.0                                               NaN  \n22.0                                              NaN  \n23.0                                              NaN  \n25.0                                              NaN  \n67.0                                              NaN  \n\n[5 rows x 81 columns]",
            "text/html": "<div>\n<style scoped>\n    .dataframe tbody tr th:only-of-type {\n        vertical-align: middle;\n    }\n\n    .dataframe tbody tr th {\n        vertical-align: top;\n    }\n\n    .dataframe thead th {\n        text-align: right;\n    }\n</style>\n<table border=\"1\" class=\"dataframe\">\n  <thead>\n    <tr style=\"text-align: right;\">\n      <th>title</th>\n      <th>(BTT) বেসিক টিচার্স ট্রেনিং কোর্স- ৪র্থ ব্যাচ</th>\n      <th>(BTT) বেসিক টিচার্স ট্রেনিং কোর্স- ৫ম ব্যাচ</th>\n      <th>B.Sc Nursing: Fundaments of Nursing-2 (Paper I)</th>\n      <th>B.Sc Nursing: Newborn Nursing</th>\n      <th>Batch-1</th>\n      <th>Batch-1 (April-2021)</th>\n      <th>C-Programming (সি প্রোগ্রামিং)- ২য় ব্যাচ</th>\n      <th>Diploma Nursing: Anatomy and Physiology</th>\n      <th>Diploma Nursing: Leadership and Management</th>\n      <th>MMCD-মাল্টিমিডিয়া কনটেন্ট তৈরি (সকলের জন্য উন্মুক্ত)- ২য় ব্যাচ</th>\n      <th>...</th>\n      <th>সহজ ইংরেজি লেখার কৌশল -২য় ব্যাচ</th>\n      <th>সাংবাদিকদের জন্য কোভিড-১৯ বিষয়ক প্রশিক্ষণ বাংলা কোর্স</th>\n      <th>সাইবার সিকিউরিটি কোর্স [পরীক্ষামূলক কোর্স]</th>\n      <th>স্বল্প পুঁজিতে কোয়েল পালন (Quail Farming in Low Budget)</th>\n      <th>স্বল্প পুঁজিতে কোয়েল পালন: ১ম ব্যাচ (Quail Farming in Low Budget)</th>\n      <th>স্বল্প পুঁজিতে কোয়েল পালন: ২য় ব্যাচ (Quail Farming in Low Budget)</th>\n      <th>স্বল্প পুঁজিতে কোয়েল পালন: ৩য় ব্যাচ</th>\n      <th>হাউস কিপিং: গৃহকর্ম প্রশিক্ষণ (House Keeping)</th>\n      <th>১ম ব্যাচ</th>\n      <th>৩৯তম বিসিএস (স্বাস্থ্য) ওরিয়েন্টশন প্রশিক্ষণ</th>\n    </tr>\n    <tr>\n      <th>user_id</th>\n      <th></th>\n      <th></th>\n      <th></th>\n      <th></th>\n      <th></th>\n      <th></th>\n      <th></th>\n      <th></th>\n      <th></th>\n      <th></th>\n      <th></th>\n      <th></th>\n      <th></th>\n      <th></th>\n      <th></th>\n      <th></th>\n      <th></th>\n      <th></th>\n      <th></th>\n      <th></th>\n      <th></th>\n    </tr>\n  </thead>\n  <tbody>\n    <tr>\n      <th>1.0</th>\n      <td>NaN</td>\n      <td>NaN</td>\n      <td>NaN</td>\n      <td>NaN</td>\n      <td>3.5</td>\n      <td>NaN</td>\n      <td>NaN</td>\n      <td>NaN</td>\n      <td>NaN</td>\n      <td>NaN</td>\n      <td>...</td>\n      <td>NaN</td>\n      <td>NaN</td>\n      <td>NaN</td>\n      <td>NaN</td>\n      <td>NaN</td>\n      <td>NaN</td>\n      <td>NaN</td>\n      <td>3.5</td>\n      <td>NaN</td>\n      <td>NaN</td>\n    </tr>\n    <tr>\n      <th>22.0</th>\n      <td>NaN</td>\n      <td>NaN</td>\n      <td>NaN</td>\n      <td>NaN</td>\n      <td>NaN</td>\n      <td>NaN</td>\n      <td>NaN</td>\n      <td>NaN</td>\n      <td>NaN</td>\n      <td>NaN</td>\n      <td>...</td>\n      <td>NaN</td>\n      <td>NaN</td>\n      <td>NaN</td>\n      <td>NaN</td>\n      <td>NaN</td>\n      <td>NaN</td>\n      <td>NaN</td>\n      <td>NaN</td>\n      <td>NaN</td>\n      <td>NaN</td>\n    </tr>\n    <tr>\n      <th>23.0</th>\n      <td>NaN</td>\n      <td>NaN</td>\n      <td>NaN</td>\n      <td>NaN</td>\n      <td>NaN</td>\n      <td>NaN</td>\n      <td>NaN</td>\n      <td>NaN</td>\n      <td>NaN</td>\n      <td>NaN</td>\n      <td>...</td>\n      <td>NaN</td>\n      <td>NaN</td>\n      <td>NaN</td>\n      <td>NaN</td>\n      <td>NaN</td>\n      <td>NaN</td>\n      <td>NaN</td>\n      <td>NaN</td>\n      <td>NaN</td>\n      <td>NaN</td>\n    </tr>\n    <tr>\n      <th>25.0</th>\n      <td>NaN</td>\n      <td>NaN</td>\n      <td>NaN</td>\n      <td>NaN</td>\n      <td>NaN</td>\n      <td>NaN</td>\n      <td>NaN</td>\n      <td>NaN</td>\n      <td>NaN</td>\n      <td>NaN</td>\n      <td>...</td>\n      <td>NaN</td>\n      <td>NaN</td>\n      <td>NaN</td>\n      <td>NaN</td>\n      <td>NaN</td>\n      <td>NaN</td>\n      <td>NaN</td>\n      <td>NaN</td>\n      <td>NaN</td>\n      <td>NaN</td>\n    </tr>\n    <tr>\n      <th>67.0</th>\n      <td>NaN</td>\n      <td>NaN</td>\n      <td>NaN</td>\n      <td>NaN</td>\n      <td>NaN</td>\n      <td>NaN</td>\n      <td>NaN</td>\n      <td>NaN</td>\n      <td>NaN</td>\n      <td>NaN</td>\n      <td>...</td>\n      <td>NaN</td>\n      <td>NaN</td>\n      <td>NaN</td>\n      <td>NaN</td>\n      <td>NaN</td>\n      <td>NaN</td>\n      <td>NaN</td>\n      <td>NaN</td>\n      <td>NaN</td>\n      <td>NaN</td>\n    </tr>\n  </tbody>\n</table>\n<p>5 rows × 81 columns</p>\n</div>"
          },
          "metadata": {}
        }
      ]
    },
    {
      "cell_type": "code",
      "source": [
        "#information on how many courses each user watched in total:\n",
        "user_course_count = course_watched_df.T.notnull().sum()\n",
        "\n",
        "user_course_count = user_course_count.reset_index()\n",
        "user_course_count.columns = [\"user_id\",\"course_count\"]\n",
        "user_course_count.head()"
      ],
      "metadata": {
        "execution": {
          "iopub.status.busy": "2023-08-17T04:53:16.843128Z",
          "iopub.execute_input": "2023-08-17T04:53:16.843512Z",
          "iopub.status.idle": "2023-08-17T04:53:17.770659Z",
          "shell.execute_reply.started": "2023-08-17T04:53:16.843456Z",
          "shell.execute_reply": "2023-08-17T04:53:17.769435Z"
        },
        "trusted": true,
        "id": "ihovEu7BzbWL",
        "outputId": "66e4f262-f66a-4187-d6c9-44dc8de81ab6"
      },
      "execution_count": null,
      "outputs": [
        {
          "execution_count": 55,
          "output_type": "execute_result",
          "data": {
            "text/plain": "   user_id  course_count\n0      1.0             3\n1     22.0             1\n2     23.0             1\n3     25.0             1\n4     67.0             1",
            "text/html": "<div>\n<style scoped>\n    .dataframe tbody tr th:only-of-type {\n        vertical-align: middle;\n    }\n\n    .dataframe tbody tr th {\n        vertical-align: top;\n    }\n\n    .dataframe thead th {\n        text-align: right;\n    }\n</style>\n<table border=\"1\" class=\"dataframe\">\n  <thead>\n    <tr style=\"text-align: right;\">\n      <th></th>\n      <th>user_id</th>\n      <th>course_count</th>\n    </tr>\n  </thead>\n  <tbody>\n    <tr>\n      <th>0</th>\n      <td>1.0</td>\n      <td>3</td>\n    </tr>\n    <tr>\n      <th>1</th>\n      <td>22.0</td>\n      <td>1</td>\n    </tr>\n    <tr>\n      <th>2</th>\n      <td>23.0</td>\n      <td>1</td>\n    </tr>\n    <tr>\n      <th>3</th>\n      <td>25.0</td>\n      <td>1</td>\n    </tr>\n    <tr>\n      <th>4</th>\n      <td>67.0</td>\n      <td>1</td>\n    </tr>\n  </tbody>\n</table>\n</div>"
          },
          "metadata": {}
        }
      ]
    },
    {
      "cell_type": "code",
      "source": [
        "len(user_course_count)\n",
        "#user_course_count.shape"
      ],
      "metadata": {
        "execution": {
          "iopub.status.busy": "2023-08-17T04:53:17.771893Z",
          "iopub.execute_input": "2023-08-17T04:53:17.772146Z",
          "iopub.status.idle": "2023-08-17T04:53:17.77662Z",
          "shell.execute_reply.started": "2023-08-17T04:53:17.772119Z",
          "shell.execute_reply": "2023-08-17T04:53:17.775821Z"
        },
        "trusted": true,
        "id": "ckHd7MVBzbWL",
        "outputId": "3b7cd0cc-a77d-4ed1-993d-dd64e7f4a476"
      },
      "execution_count": null,
      "outputs": [
        {
          "execution_count": 56,
          "output_type": "execute_result",
          "data": {
            "text/plain": "439426"
          },
          "metadata": {}
        }
      ]
    },
    {
      "cell_type": "code",
      "source": [
        "# user watched courses:\n",
        "#user_course_count[user_course_count[\"course_count\"] >= 3].count()"
      ],
      "metadata": {
        "execution": {
          "iopub.status.busy": "2023-08-17T04:53:17.777445Z",
          "iopub.execute_input": "2023-08-17T04:53:17.777713Z",
          "iopub.status.idle": "2023-08-17T04:53:17.790622Z",
          "shell.execute_reply.started": "2023-08-17T04:53:17.777688Z",
          "shell.execute_reply": "2023-08-17T04:53:17.789254Z"
        },
        "trusted": true,
        "id": "IkTVtUMwzbWL"
      },
      "execution_count": null,
      "outputs": []
    },
    {
      "cell_type": "code",
      "source": [
        "# 40% of courses watched by 28491:\n",
        "perc = len(course_watched) * 40 / 100\n",
        "perc"
      ],
      "metadata": {
        "execution": {
          "iopub.status.busy": "2023-08-17T04:53:17.792418Z",
          "iopub.execute_input": "2023-08-17T04:53:17.792809Z",
          "iopub.status.idle": "2023-08-17T04:53:17.805514Z",
          "shell.execute_reply.started": "2023-08-17T04:53:17.792769Z",
          "shell.execute_reply": "2023-08-17T04:53:17.804693Z"
        },
        "trusted": true,
        "id": "Ge4I6al3zbWL",
        "outputId": "6f1faba9-9d34-44e1-89dc-02ccd6d7da76"
      },
      "execution_count": null,
      "outputs": [
        {
          "execution_count": 58,
          "output_type": "execute_result",
          "data": {
            "text/plain": "32.4"
          },
          "metadata": {}
        }
      ]
    },
    {
      "cell_type": "code",
      "source": [
        "# People who have watched more than 3 courses together with user:\n",
        "users_same_course = user_course_count[user_course_count[\"course_count\"] >= 3][\"user_id\"]\n",
        "print(users_same_course.count())\n",
        "print(users_same_course.head())"
      ],
      "metadata": {
        "execution": {
          "iopub.status.busy": "2023-08-17T04:53:17.808643Z",
          "iopub.execute_input": "2023-08-17T04:53:17.808977Z",
          "iopub.status.idle": "2023-08-17T04:53:17.824394Z",
          "shell.execute_reply.started": "2023-08-17T04:53:17.808945Z",
          "shell.execute_reply": "2023-08-17T04:53:17.823719Z"
        },
        "trusted": true,
        "id": "ps_VC-OKzbWM",
        "outputId": "2cda08c6-c9d4-4831-d17e-00bbcf298188"
      },
      "execution_count": null,
      "outputs": [
        {
          "name": "stdout",
          "text": "15116\n0       1.0\n5      68.0\n6      71.0\n12     91.0\n22    123.0\nName: user_id, dtype: float64\n",
          "output_type": "stream"
        }
      ]
    },
    {
      "cell_type": "code",
      "source": [
        "#combine the data of the user and similar users:\n",
        "final_df = pd.concat([course_watched_df[course_watched_df.index.isin(users_same_course)],\n",
        "                      random_user_df[course_watched]])\n",
        "\n",
        "print(final_df.shape)\n",
        "print(final_df.head())\n",
        "final_df.T.corr()\n"
      ],
      "metadata": {
        "execution": {
          "iopub.status.busy": "2023-08-17T04:53:17.825621Z",
          "iopub.execute_input": "2023-08-17T04:53:17.825984Z",
          "iopub.status.idle": "2023-08-17T04:53:29.089254Z",
          "shell.execute_reply.started": "2023-08-17T04:53:17.825953Z",
          "shell.execute_reply": "2023-08-17T04:53:29.088186Z"
        },
        "trusted": true,
        "id": "vywK4PfBzbWM",
        "outputId": "40b3349b-80ce-44fe-9fe3-68b604bc33de"
      },
      "execution_count": null,
      "outputs": [
        {
          "name": "stdout",
          "text": "(15117, 81)\ntitle    (BTT) বেসিক টিচার্স ট্রেনিং কোর্স- ৪র্থ ব্যাচ  \\\nuser_id                                                  \n1.0                                                NaN   \n68.0                                               NaN   \n71.0                                               NaN   \n91.0                                               NaN   \n123.0                                              NaN   \n\ntitle    (BTT) বেসিক টিচার্স ট্রেনিং কোর্স- ৫ম ব্যাচ  \\\nuser_id                                                \n1.0                                              NaN   \n68.0                                             NaN   \n71.0                                             NaN   \n91.0                                             NaN   \n123.0                                            NaN   \n\ntitle    B.Sc Nursing: Fundaments of Nursing-2 (Paper I)  \\\nuser_id                                                    \n1.0                                                  NaN   \n68.0                                                 NaN   \n71.0                                                 NaN   \n91.0                                                 NaN   \n123.0                                                NaN   \n\ntitle    B.Sc Nursing: Newborn Nursing  Batch-1  Batch-1 (April-2021)  \\\nuser_id                                                                 \n1.0                                NaN    3.500                   NaN   \n68.0                               NaN    5.000                   NaN   \n71.0                               NaN    3.500                   5.0   \n91.0                               NaN    4.625                   NaN   \n123.0                              NaN    5.000                   5.0   \n\ntitle    C-Programming (সি প্রোগ্রামিং)- ২য় ব্যাচ  \\\nuser_id                                             \n1.0                                           NaN   \n68.0                                          NaN   \n71.0                                          NaN   \n91.0                                          NaN   \n123.0                                         NaN   \n\ntitle    Diploma Nursing: Anatomy and Physiology  \\\nuser_id                                            \n1.0                                          NaN   \n68.0                                         NaN   \n71.0                                         NaN   \n91.0                                         NaN   \n123.0                                        NaN   \n\ntitle    Diploma Nursing: Leadership and Management  \\\nuser_id                                               \n1.0                                             NaN   \n68.0                                            NaN   \n71.0                                            NaN   \n91.0                                            NaN   \n123.0                                           NaN   \n\ntitle    MMCD-মাল্টিমিডিয়া কনটেন্ট তৈরি (সকলের জন্য উন্মুক্ত)- ২য় ব্যাচ  ...  \\\nuser_id                                                                  ...   \n1.0                                                    NaN               ...   \n68.0                                                   NaN               ...   \n71.0                                                   NaN               ...   \n91.0                                                   NaN               ...   \n123.0                                                  NaN               ...   \n\ntitle    সহজ ইংরেজি লেখার কৌশল -২য় ব্যাচ  \\\nuser_id                                    \n1.0                                  NaN   \n68.0                                 NaN   \n71.0                                 NaN   \n91.0                                 NaN   \n123.0                                NaN   \n\ntitle    সাংবাদিকদের জন্য কোভিড-১৯ বিষয়ক প্রশিক্ষণ বাংলা কোর্স  \\\nuser_id                                                          \n1.0                                                    NaN       \n68.0                                                   NaN       \n71.0                                                   NaN       \n91.0                                                   NaN       \n123.0                                                  NaN       \n\ntitle    সাইবার সিকিউরিটি কোর্স [পরীক্ষামূলক কোর্স]  \\\nuser_id                                               \n1.0                                             NaN   \n68.0                                            NaN   \n71.0                                            NaN   \n91.0                                            NaN   \n123.0                                           NaN   \n\ntitle    স্বল্প পুঁজিতে কোয়েল পালন (Quail Farming in Low Budget)  \\\nuser_id                                                            \n1.0                                                    NaN         \n68.0                                                   NaN         \n71.0                                                   NaN         \n91.0                                                   NaN         \n123.0                                                  NaN         \n\ntitle    স্বল্প পুঁজিতে কোয়েল পালন: ১ম ব্যাচ (Quail Farming in Low Budget)  \\\nuser_id                                                                      \n1.0                                                    NaN                   \n68.0                                                   NaN                   \n71.0                                                   NaN                   \n91.0                                                   NaN                   \n123.0                                                  NaN                   \n\ntitle    স্বল্প পুঁজিতে কোয়েল পালন: ২য় ব্যাচ (Quail Farming in Low Budget)  \\\nuser_id                                                                      \n1.0                                                    NaN                   \n68.0                                                   NaN                   \n71.0                                                   NaN                   \n91.0                                                   NaN                   \n123.0                                                  NaN                   \n\ntitle    স্বল্প পুঁজিতে কোয়েল পালন: ৩য় ব্যাচ  \\\nuser_id                                        \n1.0                                      NaN   \n68.0                                     NaN   \n71.0                                     NaN   \n91.0                                     NaN   \n123.0                                    NaN   \n\ntitle    হাউস কিপিং: গৃহকর্ম প্রশিক্ষণ (House Keeping)  ১ম ব্যাচ  \\\nuser_id                                                            \n1.0                                                3.5       NaN   \n68.0                                               NaN       NaN   \n71.0                                               NaN       NaN   \n91.0                                               NaN       NaN   \n123.0                                              NaN       NaN   \n\ntitle    ৩৯তম বিসিএস (স্বাস্থ্য) ওরিয়েন্টশন প্রশিক্ষণ  \nuser_id                                                \n1.0                                               NaN  \n68.0                                              NaN  \n71.0                                              NaN  \n91.0                                              NaN  \n123.0                                             NaN  \n\n[5 rows x 81 columns]\n",
          "output_type": "stream"
        },
        {
          "execution_count": 60,
          "output_type": "execute_result",
          "data": {
            "text/plain": "user_id    1.0        68.0       71.0       91.0       123.0      159.0      \\\nuser_id                                                                       \n1.0              1.0        NaN        NaN        NaN        NaN        NaN   \n68.0             NaN   1.000000  -1.000000  -1.000000        NaN        NaN   \n71.0             NaN  -1.000000   1.000000   1.000000        NaN        NaN   \n91.0             NaN  -1.000000   1.000000   1.000000        NaN        NaN   \n123.0            NaN        NaN        NaN        NaN        NaN        NaN   \n...              ...        ...        ...        ...        ...        ...   \n4570805.0        NaN        NaN        NaN        NaN        NaN        NaN   \n4575709.0        NaN   1.000000        NaN        NaN        NaN        NaN   \n4585366.0        NaN        NaN        NaN        NaN        NaN        NaN   \n4590145.0        NaN        NaN        NaN        NaN        NaN        NaN   \n3079428.0        0.5   0.989373   0.948718   0.755929        NaN        NaN   \n\nuser_id    218.0      239.0      251.0      294.0      ...  4568599.0  \\\nuser_id                                                ...              \n1.0              NaN        NaN        NaN        NaN  ...        NaN   \n68.0        1.000000        NaN        NaN  -1.000000  ...        NaN   \n71.0       -1.000000       -1.0        NaN   1.000000  ...        NaN   \n91.0       -1.000000        NaN        NaN   1.000000  ...        NaN   \n123.0            NaN        NaN        NaN        NaN  ...        NaN   \n...              ...        ...        ...        ...  ...        ...   \n4570805.0        NaN        NaN        NaN        NaN  ...        NaN   \n4575709.0        NaN        NaN        NaN        NaN  ...        NaN   \n4585366.0        NaN        NaN        NaN        NaN  ...        NaN   \n4590145.0        NaN        NaN        NaN        NaN  ...        NaN   \n3079428.0   0.206666        NaN        NaN   0.987829  ...        NaN   \n\nuser_id    4568728.0  4568884.0  4569515.0  4570490.0  4570805.0  4575709.0  \\\nuser_id                                                                       \n1.0              NaN        NaN        NaN        NaN        NaN        NaN   \n68.0             NaN        NaN        NaN        NaN        NaN        1.0   \n71.0             NaN        NaN        NaN        NaN        NaN        NaN   \n91.0             NaN        NaN        NaN        NaN        NaN        NaN   \n123.0            NaN        NaN        NaN        NaN        NaN        NaN   \n...              ...        ...        ...        ...        ...        ...   \n4570805.0        NaN        NaN        NaN        NaN        NaN        NaN   \n4575709.0        NaN        NaN        NaN        NaN        NaN        1.0   \n4585366.0        NaN        NaN        NaN        NaN        NaN        NaN   \n4590145.0        NaN        NaN        NaN        NaN        NaN        NaN   \n3079428.0       -0.5        NaN  -0.354787        NaN        NaN        0.5   \n\nuser_id    4585366.0  4590145.0  3079428.0  \nuser_id                                     \n1.0              NaN        NaN   0.500000  \n68.0             NaN        NaN   0.989373  \n71.0             NaN        NaN   0.948718  \n91.0             NaN        NaN   0.755929  \n123.0            NaN        NaN        NaN  \n...              ...        ...        ...  \n4570805.0        NaN        NaN        NaN  \n4575709.0        NaN        NaN   0.500000  \n4585366.0        NaN        NaN        NaN  \n4590145.0        NaN        NaN        NaN  \n3079428.0        NaN        NaN   1.000000  \n\n[15117 rows x 15117 columns]",
            "text/html": "<div>\n<style scoped>\n    .dataframe tbody tr th:only-of-type {\n        vertical-align: middle;\n    }\n\n    .dataframe tbody tr th {\n        vertical-align: top;\n    }\n\n    .dataframe thead th {\n        text-align: right;\n    }\n</style>\n<table border=\"1\" class=\"dataframe\">\n  <thead>\n    <tr style=\"text-align: right;\">\n      <th>user_id</th>\n      <th>1.0</th>\n      <th>68.0</th>\n      <th>71.0</th>\n      <th>91.0</th>\n      <th>123.0</th>\n      <th>159.0</th>\n      <th>218.0</th>\n      <th>239.0</th>\n      <th>251.0</th>\n      <th>294.0</th>\n      <th>...</th>\n      <th>4568599.0</th>\n      <th>4568728.0</th>\n      <th>4568884.0</th>\n      <th>4569515.0</th>\n      <th>4570490.0</th>\n      <th>4570805.0</th>\n      <th>4575709.0</th>\n      <th>4585366.0</th>\n      <th>4590145.0</th>\n      <th>3079428.0</th>\n    </tr>\n    <tr>\n      <th>user_id</th>\n      <th></th>\n      <th></th>\n      <th></th>\n      <th></th>\n      <th></th>\n      <th></th>\n      <th></th>\n      <th></th>\n      <th></th>\n      <th></th>\n      <th></th>\n      <th></th>\n      <th></th>\n      <th></th>\n      <th></th>\n      <th></th>\n      <th></th>\n      <th></th>\n      <th></th>\n      <th></th>\n      <th></th>\n    </tr>\n  </thead>\n  <tbody>\n    <tr>\n      <th>1.0</th>\n      <td>1.0</td>\n      <td>NaN</td>\n      <td>NaN</td>\n      <td>NaN</td>\n      <td>NaN</td>\n      <td>NaN</td>\n      <td>NaN</td>\n      <td>NaN</td>\n      <td>NaN</td>\n      <td>NaN</td>\n      <td>...</td>\n      <td>NaN</td>\n      <td>NaN</td>\n      <td>NaN</td>\n      <td>NaN</td>\n      <td>NaN</td>\n      <td>NaN</td>\n      <td>NaN</td>\n      <td>NaN</td>\n      <td>NaN</td>\n      <td>0.500000</td>\n    </tr>\n    <tr>\n      <th>68.0</th>\n      <td>NaN</td>\n      <td>1.000000</td>\n      <td>-1.000000</td>\n      <td>-1.000000</td>\n      <td>NaN</td>\n      <td>NaN</td>\n      <td>1.000000</td>\n      <td>NaN</td>\n      <td>NaN</td>\n      <td>-1.000000</td>\n      <td>...</td>\n      <td>NaN</td>\n      <td>NaN</td>\n      <td>NaN</td>\n      <td>NaN</td>\n      <td>NaN</td>\n      <td>NaN</td>\n      <td>1.0</td>\n      <td>NaN</td>\n      <td>NaN</td>\n      <td>0.989373</td>\n    </tr>\n    <tr>\n      <th>71.0</th>\n      <td>NaN</td>\n      <td>-1.000000</td>\n      <td>1.000000</td>\n      <td>1.000000</td>\n      <td>NaN</td>\n      <td>NaN</td>\n      <td>-1.000000</td>\n      <td>-1.0</td>\n      <td>NaN</td>\n      <td>1.000000</td>\n      <td>...</td>\n      <td>NaN</td>\n      <td>NaN</td>\n      <td>NaN</td>\n      <td>NaN</td>\n      <td>NaN</td>\n      <td>NaN</td>\n      <td>NaN</td>\n      <td>NaN</td>\n      <td>NaN</td>\n      <td>0.948718</td>\n    </tr>\n    <tr>\n      <th>91.0</th>\n      <td>NaN</td>\n      <td>-1.000000</td>\n      <td>1.000000</td>\n      <td>1.000000</td>\n      <td>NaN</td>\n      <td>NaN</td>\n      <td>-1.000000</td>\n      <td>NaN</td>\n      <td>NaN</td>\n      <td>1.000000</td>\n      <td>...</td>\n      <td>NaN</td>\n      <td>NaN</td>\n      <td>NaN</td>\n      <td>NaN</td>\n      <td>NaN</td>\n      <td>NaN</td>\n      <td>NaN</td>\n      <td>NaN</td>\n      <td>NaN</td>\n      <td>0.755929</td>\n    </tr>\n    <tr>\n      <th>123.0</th>\n      <td>NaN</td>\n      <td>NaN</td>\n      <td>NaN</td>\n      <td>NaN</td>\n      <td>NaN</td>\n      <td>NaN</td>\n      <td>NaN</td>\n      <td>NaN</td>\n      <td>NaN</td>\n      <td>NaN</td>\n      <td>...</td>\n      <td>NaN</td>\n      <td>NaN</td>\n      <td>NaN</td>\n      <td>NaN</td>\n      <td>NaN</td>\n      <td>NaN</td>\n      <td>NaN</td>\n      <td>NaN</td>\n      <td>NaN</td>\n      <td>NaN</td>\n    </tr>\n    <tr>\n      <th>...</th>\n      <td>...</td>\n      <td>...</td>\n      <td>...</td>\n      <td>...</td>\n      <td>...</td>\n      <td>...</td>\n      <td>...</td>\n      <td>...</td>\n      <td>...</td>\n      <td>...</td>\n      <td>...</td>\n      <td>...</td>\n      <td>...</td>\n      <td>...</td>\n      <td>...</td>\n      <td>...</td>\n      <td>...</td>\n      <td>...</td>\n      <td>...</td>\n      <td>...</td>\n      <td>...</td>\n    </tr>\n    <tr>\n      <th>4570805.0</th>\n      <td>NaN</td>\n      <td>NaN</td>\n      <td>NaN</td>\n      <td>NaN</td>\n      <td>NaN</td>\n      <td>NaN</td>\n      <td>NaN</td>\n      <td>NaN</td>\n      <td>NaN</td>\n      <td>NaN</td>\n      <td>...</td>\n      <td>NaN</td>\n      <td>NaN</td>\n      <td>NaN</td>\n      <td>NaN</td>\n      <td>NaN</td>\n      <td>NaN</td>\n      <td>NaN</td>\n      <td>NaN</td>\n      <td>NaN</td>\n      <td>NaN</td>\n    </tr>\n    <tr>\n      <th>4575709.0</th>\n      <td>NaN</td>\n      <td>1.000000</td>\n      <td>NaN</td>\n      <td>NaN</td>\n      <td>NaN</td>\n      <td>NaN</td>\n      <td>NaN</td>\n      <td>NaN</td>\n      <td>NaN</td>\n      <td>NaN</td>\n      <td>...</td>\n      <td>NaN</td>\n      <td>NaN</td>\n      <td>NaN</td>\n      <td>NaN</td>\n      <td>NaN</td>\n      <td>NaN</td>\n      <td>1.0</td>\n      <td>NaN</td>\n      <td>NaN</td>\n      <td>0.500000</td>\n    </tr>\n    <tr>\n      <th>4585366.0</th>\n      <td>NaN</td>\n      <td>NaN</td>\n      <td>NaN</td>\n      <td>NaN</td>\n      <td>NaN</td>\n      <td>NaN</td>\n      <td>NaN</td>\n      <td>NaN</td>\n      <td>NaN</td>\n      <td>NaN</td>\n      <td>...</td>\n      <td>NaN</td>\n      <td>NaN</td>\n      <td>NaN</td>\n      <td>NaN</td>\n      <td>NaN</td>\n      <td>NaN</td>\n      <td>NaN</td>\n      <td>NaN</td>\n      <td>NaN</td>\n      <td>NaN</td>\n    </tr>\n    <tr>\n      <th>4590145.0</th>\n      <td>NaN</td>\n      <td>NaN</td>\n      <td>NaN</td>\n      <td>NaN</td>\n      <td>NaN</td>\n      <td>NaN</td>\n      <td>NaN</td>\n      <td>NaN</td>\n      <td>NaN</td>\n      <td>NaN</td>\n      <td>...</td>\n      <td>NaN</td>\n      <td>NaN</td>\n      <td>NaN</td>\n      <td>NaN</td>\n      <td>NaN</td>\n      <td>NaN</td>\n      <td>NaN</td>\n      <td>NaN</td>\n      <td>NaN</td>\n      <td>NaN</td>\n    </tr>\n    <tr>\n      <th>3079428.0</th>\n      <td>0.5</td>\n      <td>0.989373</td>\n      <td>0.948718</td>\n      <td>0.755929</td>\n      <td>NaN</td>\n      <td>NaN</td>\n      <td>0.206666</td>\n      <td>NaN</td>\n      <td>NaN</td>\n      <td>0.987829</td>\n      <td>...</td>\n      <td>NaN</td>\n      <td>-0.5</td>\n      <td>NaN</td>\n      <td>-0.354787</td>\n      <td>NaN</td>\n      <td>NaN</td>\n      <td>0.5</td>\n      <td>NaN</td>\n      <td>NaN</td>\n      <td>1.000000</td>\n    </tr>\n  </tbody>\n</table>\n<p>15117 rows × 15117 columns</p>\n</div>"
          },
          "metadata": {}
        }
      ]
    },
    {
      "cell_type": "code",
      "source": [
        "#corr for all users:\n",
        "corr_df = final_df.T.corr().unstack().sort_values().drop_duplicates()\n",
        "print(corr_df.head())\n",
        "\n",
        "corr_df = pd.DataFrame(corr_df, columns=[\"corr\"]).drop_duplicates()\n",
        "corr_df.index.names = ['user_id_1', 'user_id_2']\n",
        "corr_df = corr_df.reset_index()\n",
        "corr_df.head()"
      ],
      "metadata": {
        "execution": {
          "iopub.status.busy": "2023-08-17T04:53:29.090424Z",
          "iopub.execute_input": "2023-08-17T04:53:29.090669Z",
          "iopub.status.idle": "2023-08-17T04:53:59.885534Z",
          "shell.execute_reply.started": "2023-08-17T04:53:29.090644Z",
          "shell.execute_reply": "2023-08-17T04:53:59.884307Z"
        },
        "trusted": true,
        "id": "wwt7KIvQzbWM",
        "outputId": "f899b6a7-8bb8-4372-bd26-d9e815be07a7"
      },
      "execution_count": null,
      "outputs": [
        {
          "name": "stdout",
          "text": "user_id    user_id  \n162861.0   2926.0      -1.0\n112393.0   3706158.0   -1.0\n3234814.0  3706158.0   -1.0\n3706158.0  2976481.0   -1.0\n3022.0     3706158.0   -1.0\ndtype: float64\n",
          "output_type": "stream"
        },
        {
          "execution_count": 61,
          "output_type": "execute_result",
          "data": {
            "text/plain": "   user_id_1  user_id_2  corr\n0   162861.0     2926.0  -1.0\n1   112393.0  3706158.0  -1.0\n2  3234814.0  3706158.0  -1.0\n3  3706158.0  2976481.0  -1.0\n4     3022.0  3706158.0  -1.0",
            "text/html": "<div>\n<style scoped>\n    .dataframe tbody tr th:only-of-type {\n        vertical-align: middle;\n    }\n\n    .dataframe tbody tr th {\n        vertical-align: top;\n    }\n\n    .dataframe thead th {\n        text-align: right;\n    }\n</style>\n<table border=\"1\" class=\"dataframe\">\n  <thead>\n    <tr style=\"text-align: right;\">\n      <th></th>\n      <th>user_id_1</th>\n      <th>user_id_2</th>\n      <th>corr</th>\n    </tr>\n  </thead>\n  <tbody>\n    <tr>\n      <th>0</th>\n      <td>162861.0</td>\n      <td>2926.0</td>\n      <td>-1.0</td>\n    </tr>\n    <tr>\n      <th>1</th>\n      <td>112393.0</td>\n      <td>3706158.0</td>\n      <td>-1.0</td>\n    </tr>\n    <tr>\n      <th>2</th>\n      <td>3234814.0</td>\n      <td>3706158.0</td>\n      <td>-1.0</td>\n    </tr>\n    <tr>\n      <th>3</th>\n      <td>3706158.0</td>\n      <td>2976481.0</td>\n      <td>-1.0</td>\n    </tr>\n    <tr>\n      <th>4</th>\n      <td>3022.0</td>\n      <td>3706158.0</td>\n      <td>-1.0</td>\n    </tr>\n  </tbody>\n</table>\n</div>"
          },
          "metadata": {}
        }
      ]
    },
    {
      "cell_type": "code",
      "source": [
        "# Users with a correlation of %40 or more with the user:\n",
        "top_users = corr_df[(corr_df[\"user_id_1\"] == random_user) & (corr_df[\"corr\"] >= 0.4)][\n",
        "    [\"user_id_2\", \"corr\"]].reset_index(drop=True)\n",
        "\n",
        "top_users = top_users.sort_values(by='corr', ascending=False)\n",
        "top_users.rename(columns={\"user_id_2\": \"user_id\"}, inplace=True)\n",
        "print(top_users.head())\n",
        "top_users.shape"
      ],
      "metadata": {
        "execution": {
          "iopub.status.busy": "2023-08-17T04:53:59.886862Z",
          "iopub.execute_input": "2023-08-17T04:53:59.887147Z",
          "iopub.status.idle": "2023-08-17T04:53:59.930496Z",
          "shell.execute_reply.started": "2023-08-17T04:53:59.887115Z",
          "shell.execute_reply": "2023-08-17T04:53:59.929374Z"
        },
        "trusted": true,
        "id": "T5fXYdU0zbWM",
        "outputId": "93f686f5-8c74-43aa-9019-3f3deeec0be9"
      },
      "execution_count": null,
      "outputs": [
        {
          "name": "stdout",
          "text": "       user_id      corr\n630  3708402.0  0.999613\n629  3239888.0  0.999495\n628  3175096.0  0.999440\n627  3265707.0  0.999015\n626  3315039.0  0.998853\n",
          "output_type": "stream"
        },
        {
          "execution_count": 62,
          "output_type": "execute_result",
          "data": {
            "text/plain": "(631, 2)"
          },
          "metadata": {}
        }
      ]
    },
    {
      "cell_type": "code",
      "source": [
        "print(top_users.columns)"
      ],
      "metadata": {
        "execution": {
          "iopub.status.busy": "2023-08-17T04:53:59.931689Z",
          "iopub.execute_input": "2023-08-17T04:53:59.932005Z",
          "iopub.status.idle": "2023-08-17T04:53:59.937578Z",
          "shell.execute_reply.started": "2023-08-17T04:53:59.931973Z",
          "shell.execute_reply": "2023-08-17T04:53:59.936075Z"
        },
        "trusted": true,
        "id": "NQ6XifsSzbWM",
        "outputId": "1d2f048e-b5a5-43af-92cc-ea554525a50c"
      },
      "execution_count": null,
      "outputs": [
        {
          "name": "stdout",
          "text": "Index(['user_id', 'corr'], dtype='object')\n",
          "output_type": "stream"
        }
      ]
    },
    {
      "cell_type": "code",
      "source": [
        "# let's see the ratings of users:\n",
        "top_users_ratings = top_users.merge(course[[\"user_id\",\"id\", \"rating_point\"]], how='inner')\n",
        "\n",
        "top_users_ratings = top_users_ratings[top_users_ratings[\"user_id\"] != random_user]\n",
        "print(top_users_ratings.head())\n",
        "top_users_ratings.shape"
      ],
      "metadata": {
        "execution": {
          "iopub.status.busy": "2023-08-17T04:53:59.938813Z",
          "iopub.execute_input": "2023-08-17T04:53:59.939125Z",
          "iopub.status.idle": "2023-08-17T04:54:00.308322Z",
          "shell.execute_reply.started": "2023-08-17T04:53:59.939088Z",
          "shell.execute_reply": "2023-08-17T04:54:00.307253Z"
        },
        "trusted": true,
        "id": "R4W0Y9VPzbWM",
        "outputId": "d24665b6-9057-4cf6-83ff-dbf2c1a15927"
      },
      "execution_count": null,
      "outputs": [
        {
          "name": "stdout",
          "text": "     user_id      corr   id  rating_point\n0  3708402.0  0.999613  898           5.0\n1  3708402.0  0.999613  848           5.0\n2  3708402.0  0.999613  656           5.0\n3  3708402.0  0.999613  200           5.0\n4  3708402.0  0.999613  861           5.0\n",
          "output_type": "stream"
        },
        {
          "execution_count": 64,
          "output_type": "execute_result",
          "data": {
            "text/plain": "(9237, 4)"
          },
          "metadata": {}
        }
      ]
    },
    {
      "cell_type": "code",
      "source": [
        "# Calculate the Weighted Average Recommendation Score and keep the first 5 courses.\n",
        "\n",
        "#single score with the most similar by corr * rating:\n",
        "top_users_ratings['weighted_rating'] = top_users_ratings['corr'] * top_users_ratings['rating_point']\n",
        "top_users_ratings.groupby('id').agg({\"weighted_rating\": \"mean\"})\n",
        "\n",
        "recommendation_df = top_users_ratings.groupby('id').agg({\"weighted_rating\": \"mean\"})\n",
        "recommendation_df = recommendation_df.reset_index()\n",
        "print(recommendation_df.head())\n",
        "recommendation_df.shape"
      ],
      "metadata": {
        "execution": {
          "iopub.status.busy": "2023-08-17T04:54:00.309442Z",
          "iopub.execute_input": "2023-08-17T04:54:00.309731Z",
          "iopub.status.idle": "2023-08-17T04:54:00.32753Z",
          "shell.execute_reply.started": "2023-08-17T04:54:00.309705Z",
          "shell.execute_reply": "2023-08-17T04:54:00.326978Z"
        },
        "trusted": true,
        "id": "H1BcNs8wzbWN",
        "outputId": "91a442e5-cd20-4b12-d6f3-344671671dc6"
      },
      "execution_count": null,
      "outputs": [
        {
          "name": "stdout",
          "text": "   id  weighted_rating\n0   5         3.916059\n1  10         2.000845\n2  11         3.419103\n3  12         4.841648\n4  18         3.343714\n",
          "output_type": "stream"
        },
        {
          "execution_count": 65,
          "output_type": "execute_result",
          "data": {
            "text/plain": "(170, 2)"
          },
          "metadata": {}
        }
      ]
    },
    {
      "cell_type": "code",
      "source": [
        "# weighted rating greater than 4:\n",
        "recommendation_df[recommendation_df[\"weighted_rating\"] > 3.7]\n",
        "\n",
        "# courses user will like:\n",
        "#course_to_be_recommend = recommendation_df[recommendation_df[\"weighted_rating\"] > 3.7].sort_values(\"weighted_rating\", ascending=False)\n",
        "course_to_be_recommend = recommendation_df[\"weighted_rating\"] > 3.7\n",
        "course_to_be_recommend = recommendation_df.sort_values(\"weighted_rating\", ascending=False)\n",
        "course_to_be_recommend=course_to_be_recommend.merge(course[[\"id\", \"title\"]],how='inner')\n",
        "\n",
        "# Drop duplicate courses based on their \"id\" value\n",
        "course_to_be_recommend = course_to_be_recommend.drop_duplicates(subset=\"id\")\n",
        "\n",
        "\n",
        "#Let's see the top 5 courses:\n",
        "course_to_be_recommend.shape\n"
      ],
      "metadata": {
        "execution": {
          "iopub.status.busy": "2023-08-17T04:54:00.328402Z",
          "iopub.execute_input": "2023-08-17T04:54:00.328717Z",
          "iopub.status.idle": "2023-08-17T04:54:00.45921Z",
          "shell.execute_reply.started": "2023-08-17T04:54:00.328693Z",
          "shell.execute_reply": "2023-08-17T04:54:00.458335Z"
        },
        "trusted": true,
        "id": "JfP5QwgzzbWN",
        "outputId": "698912fe-cdbb-4f8e-a120-e7e45cf70844"
      },
      "execution_count": null,
      "outputs": [
        {
          "execution_count": 66,
          "output_type": "execute_result",
          "data": {
            "text/plain": "(170, 3)"
          },
          "metadata": {}
        }
      ]
    },
    {
      "cell_type": "code",
      "source": [
        "# Item-based suggestion based on the name of the course that the user has watched with the highest score.\n",
        "\n",
        "# ▪ 5 suggestions user-based\n",
        "# ▪ 5 suggestions item-based\n",
        "\n",
        "course = pd.read_csv(\"/kaggle/input/coursev2/coursev2.csv\")\n",
        "#print(course.head())\n",
        "\n",
        "# The last highly-rated course by user:\n",
        "#user = 65578\n",
        "user = 3079428\n",
        "course_id = course[(course[\"user_id\"] == user) & (course[\"rating_point\"] == 5.0)].sort_values(by=\"rating_point\", ascending=False)[\"id\"][0:1].values[0]\n",
        "course_id"
      ],
      "metadata": {
        "execution": {
          "iopub.status.busy": "2023-08-17T04:54:00.460226Z",
          "iopub.execute_input": "2023-08-17T04:54:00.460463Z",
          "iopub.status.idle": "2023-08-17T04:54:01.270014Z",
          "shell.execute_reply.started": "2023-08-17T04:54:00.460439Z",
          "shell.execute_reply": "2023-08-17T04:54:01.268945Z"
        },
        "trusted": true,
        "id": "pft-YzE-zbWN",
        "outputId": "82948c37-c667-4441-e715-d163a1ef3f40"
      },
      "execution_count": null,
      "outputs": [
        {
          "execution_count": 67,
          "output_type": "execute_result",
          "data": {
            "text/plain": "299"
          },
          "metadata": {}
        }
      ]
    },
    {
      "cell_type": "code",
      "source": [
        "# ▪ 5 suggestions user-based\n",
        "course_to_be_recommend[:5]['title'].to_list()"
      ],
      "metadata": {
        "execution": {
          "iopub.status.busy": "2023-08-17T04:54:01.27186Z",
          "iopub.execute_input": "2023-08-17T04:54:01.27223Z",
          "iopub.status.idle": "2023-08-17T04:54:01.280433Z",
          "shell.execute_reply.started": "2023-08-17T04:54:01.272188Z",
          "shell.execute_reply": "2023-08-17T04:54:01.279225Z"
        },
        "trusted": true,
        "id": "E97MxUtJzbWN",
        "outputId": "b8b4b7a7-00fa-487e-ebe7-2eef8e71f219"
      },
      "execution_count": null,
      "outputs": [
        {
          "execution_count": 68,
          "output_type": "execute_result",
          "data": {
            "text/plain": "['সহজ ইংরেজি লেখার কৌশল -২য় ব্যাচ',\n 'পুকুরে মিশ্র মাছ চাষের কৌশল- ২য় ব্যাচ',\n 'ট্রাবলশ্যুটিং ২: ইন্টারনেট সংযোগ সংক্রান্ত (৩য় ব্যাচ)',\n 'সঠিকভাবে পড়তে শেখা (Supplemantery Reading Materials Development)',\n 'ট্রাবলশ্যুটিং ৫: অপারেটিং সিস্টেম',\n 'পড়তে শেখার নির্দেশনা (Reading Instruction) -সকলের জন্য উন্মুক্ত- ২য় ব্যাচ',\n 'Batch-1',\n 'ট্রাবলশ্যুটিং ৩: কম্পিউটার নিরাপত্তা (২য় ব্যাচ)',\n 'শিক্ষক : ই-লার্নিং প্ল্যাটফর্মের ভিডিও টিউটোরিয়াল',\n 'ট্রাবলশ্যুটিং ১: মাল্টিমিডিয়া প্রজেক্টর (৫ম ব্যাচ)',\n 'সাংবাদিকদের জন্য কোভিড-১৯ বিষয়ক প্রশিক্ষণ বাংলা কোর্স',\n 'শুধুমাত্র শিক্ষকদের জন্য (যাদের শিক্ষক আইডি আছে)',\n 'স্বল্প পুঁজিতে কোয়েল পালন (Quail Farming in Low Budget)',\n 'Batch-1',\n 'Negotiation Techniques For Fresh Graduates']"
          },
          "metadata": {}
        }
      ]
    },
    {
      "cell_type": "code",
      "source": [
        "# ▪ 5 suggestions item-based\n",
        "course_name = course[course['id'] == course_id]['title'].values[0]\n",
        "course_name = user_course_df[course_name]\n",
        "course_from_item_based = user_course_df.corrwith(course_name).sort_values(ascending=False)\n",
        "course_from_item_based[1:6].index.to_list()"
      ],
      "metadata": {
        "execution": {
          "iopub.status.busy": "2023-08-17T04:54:01.281528Z",
          "iopub.execute_input": "2023-08-17T04:54:01.28184Z",
          "iopub.status.idle": "2023-08-17T04:54:01.968837Z",
          "shell.execute_reply.started": "2023-08-17T04:54:01.281808Z",
          "shell.execute_reply": "2023-08-17T04:54:01.967671Z"
        },
        "trusted": true,
        "id": "mqjbfErGzbWR",
        "outputId": "383de290-3107-43ed-f4ea-103346b81dc8"
      },
      "execution_count": null,
      "outputs": [
        {
          "name": "stderr",
          "text": "/opt/conda/lib/python3.7/site-packages/numpy/lib/function_base.py:2551: RuntimeWarning: Degrees of freedom <= 0 for slice\n  c = cov(x, y, rowvar)\n/opt/conda/lib/python3.7/site-packages/numpy/lib/function_base.py:2480: RuntimeWarning: divide by zero encountered in true_divide\n  c *= np.true_divide(1, fact)\n",
          "output_type": "stream"
        },
        {
          "execution_count": 69,
          "output_type": "execute_result",
          "data": {
            "text/plain": "['Effective Teaching- Batch 1',\n 'ব্যাচ ১',\n 'সমন্বয়কারী : ই-লার্নিং প্ল্যাটফর্মের ভিডিও টিউটোরিয়াল',\n 'C-Programming (সি প্রোগ্রামিং)- ২য় ব্যাচ',\n 'ট্রাবলশ্যুটিং ১: মাল্টিমিডিয়া প্রজেক্টর (২য় ব্যাচ)',\n 'সাইবার সিকিউরিটি কোর্স [পরীক্ষামূলক কোর্স]',\n 'পড়তে শেখার নির্দেশনা (Reading Instruction) -সকলের জন্য উন্মুক্ত- ৩য় ব্যাচ',\n 'Comprehensive Training Course on COVID-19 for Doctors - English',\n 'প্রফেশনাল ভিডিও টিউটোরিয়াল ডেভেলপমেন্ট- ৩য় ব্যাচ',\n 'প্রফেশনাল ভিডিও টিউটোরিয়াল ডেভেলপমেন্ট- ৪র্থ ব্যাচ',\n 'ট্রাবলশ্যুটিং ২: ইন্টারনেট সংযোগ সংক্রান্ত (২য় ব্যাচ)',\n 'ট্রাবলশ্যুটিং ৫: অপারেটিং সিস্টেম',\n 'সমস্যা সমাধানভিত্তিক শিখন ও গাঠনিক মূল্যায়ন (২য় ব্যাচ) - Problem-based Learning and Formative Assessment (2nd Batch)',\n 'মাল্টিমিডিয়া কনটেন্ট তৈরি -MMCD (সকলের জন্য উন্মুক্ত DCD)',\n 'Research Methodology for Social Science Researchers']"
          },
          "metadata": {}
        }
      ]
    },
    {
      "cell_type": "code",
      "source": [],
      "metadata": {
        "id": "nG-6uj9LzbWS"
      },
      "execution_count": null,
      "outputs": []
    }
  ]
}